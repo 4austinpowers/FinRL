{
 "cells": [
  {
   "cell_type": "markdown",
   "metadata": {
    "id": "yfv52r2G33jY"
   },
   "source": [
    "<a href=\"https://colab.research.google.com/github/AI4Finance-Foundation/FinRL/blob/master/Stock_NeurIPS2018.ipynb\" target=\"_parent\"><img src=\"https://colab.research.google.com/assets/colab-badge.svg\" alt=\"Open In Colab\"/></a>"
   ]
  },
  {
   "cell_type": "markdown",
   "metadata": {
    "id": "gXaoZs2lh1hi"
   },
   "source": [
    "# Deep Reinforcement Learning for Stock Trading from Scratch: Multiple Stock Trading\n",
    "\n",
    "* **Pytorch Version** \n",
    "\n"
   ]
  },
  {
   "cell_type": "markdown",
   "metadata": {
    "id": "lGunVt8oLCVS"
   },
   "source": [
    "# Content"
   ]
  },
  {
   "cell_type": "markdown",
   "metadata": {
    "id": "HOzAKQ-SLGX6"
   },
   "source": [
    "* [1. Task Description](#0)\n",
    "* [2. Install Python packages](#1)\n",
    "    * [2.1. Install Packages](#1.1)    \n",
    "    * [2.2. A List of Python Packages](#1.2)\n",
    "    * [2.3. Import Packages](#1.3)\n",
    "    * [2.4. Create Folders](#1.4)\n",
    "* [3. Download and Preprocess Data](#2)\n",
    "* [4. Preprocess Data](#3)        \n",
    "    * [4.1. Technical Indicators](#3.1)\n",
    "    * [4.2. Perform Feature Engineering](#3.2)\n",
    "* [5. Build Market Environment in OpenAI Gym-style](#4)  \n",
    "    * [5.1. Data Split](#4.1)  \n",
    "    * [5.3. Environment for Training](#4.2)    \n",
    "* [6. Train DRL Agents](#5)\n",
    "* [7. Backtesting Performance](#6)  \n",
    "    * [7.1. BackTestStats](#6.1)\n",
    "    * [7.2. BackTestPlot](#6.2)   \n",
    "  "
   ]
  },
  {
   "cell_type": "markdown",
   "metadata": {
    "id": "sApkDlD9LIZv"
   },
   "source": [
    "<a id='0'></a>\n",
    "# Part 1. Task Discription"
   ]
  },
  {
   "cell_type": "markdown",
   "metadata": {
    "id": "HjLD2TZSLKZ-"
   },
   "source": [
    "We train a DRL agent for stock trading. This task is modeled as a Markov Decision Process (MDP), and the objective function is maximizing (expected) cumulative return.\n",
    "\n",
    "We specify the state-action-reward as follows:\n",
    "\n",
    "* **State s**: The state space represents an agent's perception of the market environment. Just like a human trader analyzing various information, here our agent passively observes many features and learns by interacting with the market environment (usually by replaying historical data).\n",
    "\n",
    "* **Action a**: The action space includes allowed actions that an agent can take at each state. For example, a ∈ {−1, 0, 1}, where −1, 0, 1 represent\n",
    "selling, holding, and buying. When an action operates multiple shares, a ∈{−k, ..., −1, 0, 1, ..., k}, e.g.. \"Buy\n",
    "10 shares of AAPL\" or \"Sell 10 shares of AAPL\" are 10 or −10, respectively\n",
    "\n",
    "* **Reward function r(s, a, s′)**: Reward is an incentive for an agent to learn a better policy. For example, it can be the change of the portfolio value when taking a at state s and arriving at new state s',  i.e., r(s, a, s′) = v′ − v, where v′ and v represent the portfolio values at state s′ and s, respectively\n",
    "\n",
    "\n",
    "**Market environment**: 30 consituent stocks of Dow Jones Industrial Average (DJIA) index. Accessed at the starting date of the testing period.\n",
    "\n",
    "\n",
    "The data for this case study is obtained from Yahoo Finance API. The data contains Open-High-Low-Close price and volume.\n"
   ]
  },
  {
   "cell_type": "markdown",
   "metadata": {
    "id": "Ffsre789LY08"
   },
   "source": [
    "<a id='1'></a>\n",
    "# Part 2. Install Python Packages"
   ]
  },
  {
   "cell_type": "markdown",
   "metadata": {
    "id": "Uy5_PTmOh1hj"
   },
   "source": [
    "<a id='1.1'></a>\n",
    "## 2.1. Install packages\n"
   ]
  },
  {
   "cell_type": "code",
   "execution_count": 1,
   "metadata": {
    "colab": {
     "base_uri": "https://localhost:8080/"
    },
    "id": "mPT0ipYE28wL",
    "outputId": "02a8a804-d120-4388-a167-20a81cb33d87"
   },
   "outputs": [],
   "source": [
    "## install finrl library\n",
    "#!pip install git+https://github.com/AI4Finance-Foundation/FinRL.git"
   ]
  },
  {
   "cell_type": "markdown",
   "metadata": {
    "id": "osBHhVysOEzi"
   },
   "source": [
    "\n",
    "<a id='1.2'></a>\n",
    "## 2.2. A list of Python packages \n",
    "* Yahoo Finance API\n",
    "* pandas\n",
    "* numpy\n",
    "* matplotlib\n",
    "* stockstats\n",
    "* OpenAI gym\n",
    "* stable-baselines\n",
    "* tensorflow\n",
    "* pyfolio"
   ]
  },
  {
   "cell_type": "markdown",
   "metadata": {
    "id": "nGv01K8Sh1hn"
   },
   "source": [
    "<a id='1.3'></a>\n",
    "## 2.3. Import Packages"
   ]
  },
  {
   "cell_type": "code",
   "execution_count": 2,
   "metadata": {},
   "outputs": [],
   "source": [
    "import warnings\n",
    "warnings.filterwarnings('ignore')"
   ]
  },
  {
   "cell_type": "code",
   "execution_count": 3,
   "metadata": {
    "id": "lPqeTTwoh1hn"
   },
   "outputs": [],
   "source": [
    "import pandas as pd\n",
    "import numpy as np\n",
    "import matplotlib\n",
    "import matplotlib.pyplot as plt\n",
    "# matplotlib.use('Agg')\n",
    "import datetime\n",
    "\n",
    "%matplotlib inline\n",
    "from finrl.meta.preprocessor.yahoodownloader import YahooDownloader\n",
    "from finrl.meta.preprocessor.preprocessors import FeatureEngineer, data_split\n",
    "from finrl.meta.env_stock_trading.env_stocktrading import StockTradingEnv\n",
    "from finrl.agents.stablebaselines3.models import DRLAgent\n",
    "from stable_baselines3.common.logger import configure\n",
    "from finrl.meta.data_processor import DataProcessor\n",
    "\n",
    "from finrl.plot import backtest_stats, backtest_plot, get_daily_return, get_baseline\n",
    "from pprint import pprint\n",
    "\n",
    "import sys\n",
    "sys.path.append(\"../FinRL\")\n",
    "\n",
    "import itertools\n"
   ]
  },
  {
   "cell_type": "code",
   "execution_count": 4,
   "metadata": {},
   "outputs": [],
   "source": [
    "from finrl.plot import backtest_stats, backtest_plot, get_daily_return, get_baseline\n"
   ]
  },
  {
   "cell_type": "markdown",
   "metadata": {
    "id": "T2owTj985RW4"
   },
   "source": [
    "<a id='1.4'></a>\n",
    "## 2.4. Create Folders"
   ]
  },
  {
   "cell_type": "code",
   "execution_count": 5,
   "metadata": {
    "id": "RtUc_ofKmpdy"
   },
   "outputs": [],
   "source": [
    "from finrl import config\n",
    "from finrl import config_tickers\n",
    "import os\n",
    "from finrl.main import check_and_make_directories\n",
    "from finrl.config import (\n",
    "    DATA_SAVE_DIR,\n",
    "    TRAINED_MODEL_DIR,\n",
    "    TENSORBOARD_LOG_DIR,\n",
    "    RESULTS_DIR,\n",
    "    INDICATORS,\n",
    "    TRAIN_START_DATE,\n",
    "    TRAIN_END_DATE,\n",
    "    TEST_START_DATE,\n",
    "    TEST_END_DATE,\n",
    "    TRADE_START_DATE,\n",
    "    TRADE_END_DATE,\n",
    ")\n",
    "check_and_make_directories([DATA_SAVE_DIR, TRAINED_MODEL_DIR, TENSORBOARD_LOG_DIR, RESULTS_DIR])\n",
    "\n"
   ]
  },
  {
   "cell_type": "markdown",
   "metadata": {
    "id": "A289rQWMh1hq"
   },
   "source": [
    "<a id='2'></a>\n",
    "# Part 3. Download Data\n",
    "Yahoo Finance provides stock data, financial news, financial reports, etc. Yahoo Finance is free.\n",
    "* FinRL uses a class **YahooDownloader** in FinRL-Meta to fetch data via Yahoo Finance API\n",
    "* Call Limit: Using the Public API (without authentication), you are limited to 2,000 requests per hour per IP (or up to a total of 48,000 requests a day)."
   ]
  },
  {
   "cell_type": "markdown",
   "metadata": {
    "id": "NPeQ7iS-LoMm"
   },
   "source": [
    "\n",
    "\n",
    "-----\n",
    "class YahooDownloader:\n",
    "    Retrieving daily stock data from\n",
    "    Yahoo Finance API\n",
    "\n",
    "    Attributes\n",
    "    ----------\n",
    "        start_date : str\n",
    "            start date of the data (modified from config.py)\n",
    "        end_date : str\n",
    "            end date of the data (modified from config.py)\n",
    "        ticker_list : list\n",
    "            a list of stock tickers (modified from config.py)\n",
    "\n",
    "    Methods\n",
    "    -------\n",
    "    fetch_data()\n"
   ]
  },
  {
   "cell_type": "code",
   "execution_count": 6,
   "metadata": {
    "colab": {
     "base_uri": "https://localhost:8080/",
     "height": 35
    },
    "id": "h3XJnvrbLp-C",
    "outputId": "3c4dda81-f617-4e9b-f88c-edb502d1500c"
   },
   "outputs": [
    {
     "name": "stdout",
     "output_type": "stream",
     "text": [
      "start date: 2014-01-06\n",
      "end date: 2020-07-31\n"
     ]
    }
   ],
   "source": [
    "# from config.py, TRAIN_START_DATE is a string\n",
    "print(f'start date: {TRAIN_START_DATE}')\n",
    "# from config.py, TRAIN_END_DATE is a string\n",
    "print(f'end date: {TRAIN_END_DATE}')"
   ]
  },
  {
   "cell_type": "code",
   "execution_count": 7,
   "metadata": {
    "id": "FUnY8WEfLq3C"
   },
   "outputs": [],
   "source": [
    "TRAIN_START_DATE = '2009-01-01'\n",
    "TRAIN_END_DATE = '2015-01-01'\n",
    "TEST_START_DATE = \"2015-01-01\"\n",
    "TEST_END_DATE = \"2016-01-01\"\n",
    "TRADE_START_DATE = '2016-01-01'\n",
    "TRADE_END_DATE = '2017-11-11'\n"
   ]
  },
  {
   "cell_type": "code",
   "execution_count": 8,
   "metadata": {
    "colab": {
     "base_uri": "https://localhost:8080/"
    },
    "id": "yCKm4om-s9kE",
    "outputId": "24dbccc1-190c-4912-b67a-9fe8fd9afbf2",
    "scrolled": false
   },
   "outputs": [
    {
     "name": "stdout",
     "output_type": "stream",
     "text": [
      "[*********************100%***********************]  1 of 1 completed\n",
      "[*********************100%***********************]  1 of 1 completed\n",
      "\n",
      "1 Failed download:\n",
      "- ZM: Data doesn't exist for startDate = 1230753600, endDate = 1510344000\n",
      "[*********************100%***********************]  1 of 1 completed\n",
      "[*********************100%***********************]  1 of 1 completed\n",
      "[*********************100%***********************]  1 of 1 completed\n",
      "[*********************100%***********************]  1 of 1 completed\n",
      "[*********************100%***********************]  1 of 1 completed\n",
      "[*********************100%***********************]  1 of 1 completed\n",
      "[*********************100%***********************]  1 of 1 completed\n",
      "\n",
      "1 Failed download:\n",
      "- COIN: Data doesn't exist for startDate = 1230753600, endDate = 1510344000\n",
      "[*********************100%***********************]  1 of 1 completed\n",
      "\n",
      "1 Failed download:\n",
      "- PATH: Data doesn't exist for startDate = 1230753600, endDate = 1510344000\n",
      "[*********************100%***********************]  1 of 1 completed\n",
      "\n",
      "1 Failed download:\n",
      "- BEAM: Data doesn't exist for startDate = 1230753600, endDate = 1510344000\n",
      "[*********************100%***********************]  1 of 1 completed\n",
      "[*********************100%***********************]  1 of 1 completed\n",
      "\n",
      "1 Failed download:\n",
      "- U: Data doesn't exist for startDate = 1230753600, endDate = 1510344000\n",
      "[*********************100%***********************]  1 of 1 completed\n",
      "[*********************100%***********************]  1 of 1 completed\n",
      "\n",
      "1 Failed download:\n",
      "- DKNG: Data doesn't exist for startDate = 1230753600, endDate = 1510344000\n",
      "[*********************100%***********************]  1 of 1 completed\n",
      "[*********************100%***********************]  1 of 1 completed\n",
      "\n",
      "1 Failed download:\n",
      "- RBLX: Data doesn't exist for startDate = 1230753600, endDate = 1510344000\n",
      "[*********************100%***********************]  1 of 1 completed\n",
      "\n",
      "1 Failed download:\n",
      "- DNA: Data doesn't exist for startDate = 1230753600, endDate = 1510344000\n",
      "[*********************100%***********************]  1 of 1 completed\n",
      "\n",
      "1 Failed download:\n",
      "- HOOD: Data doesn't exist for startDate = 1230753600, endDate = 1510344000\n",
      "[*********************100%***********************]  1 of 1 completed\n",
      "\n",
      "1 Failed download:\n",
      "- PD: Data doesn't exist for startDate = 1230753600, endDate = 1510344000\n",
      "[*********************100%***********************]  1 of 1 completed\n",
      "[*********************100%***********************]  1 of 1 completed\n",
      "\n",
      "1 Failed download:\n",
      "- TWST: Data doesn't exist for startDate = 1230753600, endDate = 1510344000\n",
      "[*********************100%***********************]  1 of 1 completed\n",
      "\n",
      "1 Failed download:\n",
      "- TXG: Data doesn't exist for startDate = 1230753600, endDate = 1510344000\n",
      "[*********************100%***********************]  1 of 1 completed\n",
      "[*********************100%***********************]  1 of 1 completed\n",
      "[*********************100%***********************]  1 of 1 completed\n",
      "[*********************100%***********************]  1 of 1 completed\n",
      "\n",
      "1 Failed download:\n",
      "- SGFY: Data doesn't exist for startDate = 1230753600, endDate = 1510344000\n",
      "[*********************100%***********************]  1 of 1 completed\n",
      "\n",
      "1 Failed download:\n",
      "- TSP: Data doesn't exist for startDate = 1230753600, endDate = 1510344000\n",
      "[*********************100%***********************]  1 of 1 completed\n",
      "\n",
      "1 Failed download:\n",
      "- SPOT: Data doesn't exist for startDate = 1230753600, endDate = 1510344000\n",
      "[*********************100%***********************]  1 of 1 completed\n",
      "[*********************100%***********************]  1 of 1 completed\n",
      "[*********************100%***********************]  1 of 1 completed\n",
      "[*********************100%***********************]  1 of 1 completed\n",
      "[*********************100%***********************]  1 of 1 completed\n",
      "\n",
      "1 Failed download:\n",
      "- BLI: Data doesn't exist for startDate = 1230753600, endDate = 1510344000\n",
      "[*********************100%***********************]  1 of 1 completed\n",
      "Shape of DataFrame:  (21875, 8)\n"
     ]
    }
   ],
   "source": [
    "df = YahooDownloader(start_date = TRAIN_START_DATE,\n",
    "                     end_date = TRADE_END_DATE,\n",
    "                     ticker_list = config_tickers.ARK_TICKER).fetch_data() # check config tickers for lists -- DOW_30_TICKER"
   ]
  },
  {
   "cell_type": "code",
   "execution_count": 9,
   "metadata": {
    "colab": {
     "base_uri": "https://localhost:8080/"
    },
    "id": "JzqRRTOX6aFu",
    "outputId": "85539f72-49fe-4418-9a75-5fa715cbfac9"
   },
   "outputs": [
    {
     "name": "stdout",
     "output_type": "stream",
     "text": [
      "['TSLA', 'ZM', 'ROKU', 'EXAS', 'NTLA', 'SQ', 'TDOC', 'CRSP', 'COIN', 'PATH', 'BEAM', 'TWLO', 'U', 'SHOP', 'DKNG', 'UW', 'RBLX', 'DNA', 'HOOD', 'PD', 'FATE', 'TWST', 'TXG', 'NVDA', 'VCYT', 'PACB', 'SGFY', 'TSP', 'SPOT', 'NVTA', 'MTLS', 'TWOU', 'CERS', 'BLI', 'GEN']\n"
     ]
    }
   ],
   "source": [
    "print(config_tickers.ARK_TICKER)"
   ]
  },
  {
   "cell_type": "code",
   "execution_count": 10,
   "metadata": {
    "colab": {
     "base_uri": "https://localhost:8080/"
    },
    "id": "CV3HrZHLh1hy",
    "outputId": "f1031e65-9b05-4fb4-9128-3b7babd894c5"
   },
   "outputs": [
    {
     "data": {
      "text/plain": [
       "(21875, 8)"
      ]
     },
     "execution_count": 10,
     "metadata": {},
     "output_type": "execute_result"
    }
   ],
   "source": [
    "df.shape"
   ]
  },
  {
   "cell_type": "code",
   "execution_count": 11,
   "metadata": {
    "colab": {
     "base_uri": "https://localhost:8080/",
     "height": 206
    },
    "id": "4hYkeaPiICHS",
    "outputId": "95d13d1e-3c8d-441e-835e-b9c7c121fd9f"
   },
   "outputs": [
    {
     "data": {
      "text/html": [
       "<div>\n",
       "<style scoped>\n",
       "    .dataframe tbody tr th:only-of-type {\n",
       "        vertical-align: middle;\n",
       "    }\n",
       "\n",
       "    .dataframe tbody tr th {\n",
       "        vertical-align: top;\n",
       "    }\n",
       "\n",
       "    .dataframe thead th {\n",
       "        text-align: right;\n",
       "    }\n",
       "</style>\n",
       "<table border=\"1\" class=\"dataframe\">\n",
       "  <thead>\n",
       "    <tr style=\"text-align: right;\">\n",
       "      <th></th>\n",
       "      <th>date</th>\n",
       "      <th>open</th>\n",
       "      <th>high</th>\n",
       "      <th>low</th>\n",
       "      <th>close</th>\n",
       "      <th>volume</th>\n",
       "      <th>tic</th>\n",
       "      <th>day</th>\n",
       "    </tr>\n",
       "  </thead>\n",
       "  <tbody>\n",
       "    <tr>\n",
       "      <th>0</th>\n",
       "      <td>2008-12-31</td>\n",
       "      <td>0.70</td>\n",
       "      <td>0.7000</td>\n",
       "      <td>0.640</td>\n",
       "      <td>0.700000</td>\n",
       "      <td>326200.0</td>\n",
       "      <td>CERS</td>\n",
       "      <td>2</td>\n",
       "    </tr>\n",
       "    <tr>\n",
       "      <th>1</th>\n",
       "      <td>2008-12-31</td>\n",
       "      <td>0.54</td>\n",
       "      <td>0.5700</td>\n",
       "      <td>0.520</td>\n",
       "      <td>0.570000</td>\n",
       "      <td>77900.0</td>\n",
       "      <td>EXAS</td>\n",
       "      <td>2</td>\n",
       "    </tr>\n",
       "    <tr>\n",
       "      <th>2</th>\n",
       "      <td>2008-12-31</td>\n",
       "      <td>12.97</td>\n",
       "      <td>13.6500</td>\n",
       "      <td>12.880</td>\n",
       "      <td>5.176326</td>\n",
       "      <td>7946200.0</td>\n",
       "      <td>GEN</td>\n",
       "      <td>2</td>\n",
       "    </tr>\n",
       "    <tr>\n",
       "      <th>3</th>\n",
       "      <td>2008-12-31</td>\n",
       "      <td>1.98</td>\n",
       "      <td>2.0675</td>\n",
       "      <td>1.945</td>\n",
       "      <td>1.852039</td>\n",
       "      <td>44158000.0</td>\n",
       "      <td>NVDA</td>\n",
       "      <td>2</td>\n",
       "    </tr>\n",
       "    <tr>\n",
       "      <th>4</th>\n",
       "      <td>2008-12-31</td>\n",
       "      <td>0.12</td>\n",
       "      <td>0.1200</td>\n",
       "      <td>0.120</td>\n",
       "      <td>0.120000</td>\n",
       "      <td>0.0</td>\n",
       "      <td>UW</td>\n",
       "      <td>2</td>\n",
       "    </tr>\n",
       "  </tbody>\n",
       "</table>\n",
       "</div>"
      ],
      "text/plain": [
       "         date   open     high     low     close      volume   tic  day\n",
       "0  2008-12-31   0.70   0.7000   0.640  0.700000    326200.0  CERS    2\n",
       "1  2008-12-31   0.54   0.5700   0.520  0.570000     77900.0  EXAS    2\n",
       "2  2008-12-31  12.97  13.6500  12.880  5.176326   7946200.0   GEN    2\n",
       "3  2008-12-31   1.98   2.0675   1.945  1.852039  44158000.0  NVDA    2\n",
       "4  2008-12-31   0.12   0.1200   0.120  0.120000         0.0    UW    2"
      ]
     },
     "execution_count": 11,
     "metadata": {},
     "output_type": "execute_result"
    }
   ],
   "source": [
    "df.sort_values(['date','tic'],ignore_index=True).head()"
   ]
  },
  {
   "cell_type": "code",
   "execution_count": 12,
   "metadata": {},
   "outputs": [
    {
     "data": {
      "text/html": [
       "<div>\n",
       "<style scoped>\n",
       "    .dataframe tbody tr th:only-of-type {\n",
       "        vertical-align: middle;\n",
       "    }\n",
       "\n",
       "    .dataframe tbody tr th {\n",
       "        vertical-align: top;\n",
       "    }\n",
       "\n",
       "    .dataframe thead th {\n",
       "        text-align: right;\n",
       "    }\n",
       "</style>\n",
       "<table border=\"1\" class=\"dataframe\">\n",
       "  <thead>\n",
       "    <tr style=\"text-align: right;\">\n",
       "      <th></th>\n",
       "      <th>date</th>\n",
       "      <th>open</th>\n",
       "      <th>high</th>\n",
       "      <th>low</th>\n",
       "      <th>close</th>\n",
       "      <th>volume</th>\n",
       "      <th>tic</th>\n",
       "      <th>day</th>\n",
       "    </tr>\n",
       "  </thead>\n",
       "  <tbody>\n",
       "    <tr>\n",
       "      <th>0</th>\n",
       "      <td>2008-12-31</td>\n",
       "      <td>0.700000</td>\n",
       "      <td>0.700000</td>\n",
       "      <td>0.640000</td>\n",
       "      <td>0.700000</td>\n",
       "      <td>326200.0</td>\n",
       "      <td>CERS</td>\n",
       "      <td>2</td>\n",
       "    </tr>\n",
       "    <tr>\n",
       "      <th>1</th>\n",
       "      <td>2008-12-31</td>\n",
       "      <td>0.540000</td>\n",
       "      <td>0.570000</td>\n",
       "      <td>0.520000</td>\n",
       "      <td>0.570000</td>\n",
       "      <td>77900.0</td>\n",
       "      <td>EXAS</td>\n",
       "      <td>2</td>\n",
       "    </tr>\n",
       "    <tr>\n",
       "      <th>2</th>\n",
       "      <td>2008-12-31</td>\n",
       "      <td>12.970000</td>\n",
       "      <td>13.650000</td>\n",
       "      <td>12.880000</td>\n",
       "      <td>5.176326</td>\n",
       "      <td>7946200.0</td>\n",
       "      <td>GEN</td>\n",
       "      <td>2</td>\n",
       "    </tr>\n",
       "    <tr>\n",
       "      <th>3</th>\n",
       "      <td>2008-12-31</td>\n",
       "      <td>1.980000</td>\n",
       "      <td>2.067500</td>\n",
       "      <td>1.945000</td>\n",
       "      <td>1.852039</td>\n",
       "      <td>44158000.0</td>\n",
       "      <td>NVDA</td>\n",
       "      <td>2</td>\n",
       "    </tr>\n",
       "    <tr>\n",
       "      <th>4</th>\n",
       "      <td>2008-12-31</td>\n",
       "      <td>0.120000</td>\n",
       "      <td>0.120000</td>\n",
       "      <td>0.120000</td>\n",
       "      <td>0.120000</td>\n",
       "      <td>0.0</td>\n",
       "      <td>UW</td>\n",
       "      <td>2</td>\n",
       "    </tr>\n",
       "    <tr>\n",
       "      <th>...</th>\n",
       "      <td>...</td>\n",
       "      <td>...</td>\n",
       "      <td>...</td>\n",
       "      <td>...</td>\n",
       "      <td>...</td>\n",
       "      <td>...</td>\n",
       "      <td>...</td>\n",
       "      <td>...</td>\n",
       "    </tr>\n",
       "    <tr>\n",
       "      <th>21870</th>\n",
       "      <td>2017-11-10</td>\n",
       "      <td>29.450001</td>\n",
       "      <td>29.600000</td>\n",
       "      <td>28.299999</td>\n",
       "      <td>29.000000</td>\n",
       "      <td>699800.0</td>\n",
       "      <td>TDOC</td>\n",
       "      <td>4</td>\n",
       "    </tr>\n",
       "    <tr>\n",
       "      <th>21871</th>\n",
       "      <td>2017-11-10</td>\n",
       "      <td>20.166668</td>\n",
       "      <td>20.557333</td>\n",
       "      <td>20.123333</td>\n",
       "      <td>20.199333</td>\n",
       "      <td>69381000.0</td>\n",
       "      <td>TSLA</td>\n",
       "      <td>4</td>\n",
       "    </tr>\n",
       "    <tr>\n",
       "      <th>21872</th>\n",
       "      <td>2017-11-10</td>\n",
       "      <td>25.840000</td>\n",
       "      <td>26.250000</td>\n",
       "      <td>25.160000</td>\n",
       "      <td>25.549999</td>\n",
       "      <td>3418400.0</td>\n",
       "      <td>TWLO</td>\n",
       "      <td>4</td>\n",
       "    </tr>\n",
       "    <tr>\n",
       "      <th>21873</th>\n",
       "      <td>2017-11-10</td>\n",
       "      <td>63.099998</td>\n",
       "      <td>64.059998</td>\n",
       "      <td>62.709999</td>\n",
       "      <td>63.529999</td>\n",
       "      <td>231100.0</td>\n",
       "      <td>TWOU</td>\n",
       "      <td>4</td>\n",
       "    </tr>\n",
       "    <tr>\n",
       "      <th>21874</th>\n",
       "      <td>2017-11-10</td>\n",
       "      <td>6.520000</td>\n",
       "      <td>6.620000</td>\n",
       "      <td>6.170000</td>\n",
       "      <td>6.290000</td>\n",
       "      <td>252200.0</td>\n",
       "      <td>VCYT</td>\n",
       "      <td>4</td>\n",
       "    </tr>\n",
       "  </tbody>\n",
       "</table>\n",
       "<p>21875 rows × 8 columns</p>\n",
       "</div>"
      ],
      "text/plain": [
       "             date       open       high        low      close      volume  \\\n",
       "0      2008-12-31   0.700000   0.700000   0.640000   0.700000    326200.0   \n",
       "1      2008-12-31   0.540000   0.570000   0.520000   0.570000     77900.0   \n",
       "2      2008-12-31  12.970000  13.650000  12.880000   5.176326   7946200.0   \n",
       "3      2008-12-31   1.980000   2.067500   1.945000   1.852039  44158000.0   \n",
       "4      2008-12-31   0.120000   0.120000   0.120000   0.120000         0.0   \n",
       "...           ...        ...        ...        ...        ...         ...   \n",
       "21870  2017-11-10  29.450001  29.600000  28.299999  29.000000    699800.0   \n",
       "21871  2017-11-10  20.166668  20.557333  20.123333  20.199333  69381000.0   \n",
       "21872  2017-11-10  25.840000  26.250000  25.160000  25.549999   3418400.0   \n",
       "21873  2017-11-10  63.099998  64.059998  62.709999  63.529999    231100.0   \n",
       "21874  2017-11-10   6.520000   6.620000   6.170000   6.290000    252200.0   \n",
       "\n",
       "        tic  day  \n",
       "0      CERS    2  \n",
       "1      EXAS    2  \n",
       "2       GEN    2  \n",
       "3      NVDA    2  \n",
       "4        UW    2  \n",
       "...     ...  ...  \n",
       "21870  TDOC    4  \n",
       "21871  TSLA    4  \n",
       "21872  TWLO    4  \n",
       "21873  TWOU    4  \n",
       "21874  VCYT    4  \n",
       "\n",
       "[21875 rows x 8 columns]"
      ]
     },
     "execution_count": 12,
     "metadata": {},
     "output_type": "execute_result"
    }
   ],
   "source": [
    "df"
   ]
  },
  {
   "cell_type": "markdown",
   "metadata": {
    "id": "uqC6c40Zh1iH"
   },
   "source": [
    "# Part 4: Preprocess Data\n",
    "We need to check for missing data and do feature engineering to convert the data point into a state.\n",
    "* **Adding technical indicators**. In practical trading, various information needs to be taken into account, such as historical prices, current holding shares, technical indicators, etc. Here, we demonstrate two trend-following technical indicators: MACD and RSI.\n",
    "* **Adding turbulence index**. Risk-aversion reflects whether an investor prefers to protect the capital. It also influences one's trading strategy when facing different market volatility level. To control the risk in a worst-case scenario, such as financial crisis of 2007–2008, FinRL employs the turbulence index that measures extreme fluctuation of asset price."
   ]
  },
  {
   "cell_type": "code",
   "execution_count": 13,
   "metadata": {
    "colab": {
     "base_uri": "https://localhost:8080/"
    },
    "id": "PmKP-1ii3RLS",
    "outputId": "9b9facc1-f877-4caa-b66b-a2ce0e023de8"
   },
   "outputs": [
    {
     "name": "stdout",
     "output_type": "stream",
     "text": [
      "Successfully added technical indicators\n",
      "[*********************100%***********************]  1 of 1 completed\n",
      "Shape of DataFrame:  (2233, 8)\n",
      "Successfully added vix\n",
      "Successfully added turbulence index\n",
      "Successfully added user defined features\n"
     ]
    }
   ],
   "source": [
    "fe = FeatureEngineer(\n",
    "                    use_technical_indicator=True,\n",
    "                    tech_indicator_list = INDICATORS,\n",
    "                    use_vix=True,\n",
    "                    use_turbulence=True,\n",
    "                    user_defined_feature = True)\n",
    "\n",
    "processed = fe.preprocess_data(df)"
   ]
  },
  {
   "cell_type": "code",
   "execution_count": 14,
   "metadata": {
    "id": "Kixon2tR3RLT"
   },
   "outputs": [],
   "source": [
    "list_ticker = processed[\"tic\"].unique().tolist()\n",
    "list_date = list(pd.date_range(processed['date'].min(),processed['date'].max()).astype(str))\n",
    "combination = list(itertools.product(list_date,list_ticker))\n",
    "\n",
    "processed_full = pd.DataFrame(combination,columns=[\"date\",\"tic\"]).merge(processed,on=[\"date\",\"tic\"],how=\"left\")\n",
    "processed_full = processed_full[processed_full['date'].isin(processed['date'])]\n",
    "processed_full = processed_full.sort_values(['date','tic'])\n",
    "\n",
    "processed_full = processed_full.fillna(0)"
   ]
  },
  {
   "cell_type": "code",
   "execution_count": 15,
   "metadata": {
    "colab": {
     "base_uri": "https://localhost:8080/",
     "height": 407
    },
    "id": "grvhGJJII3Xn",
    "outputId": "8e48188a-d58d-4d2c-dbed-fecacb74984e"
   },
   "outputs": [
    {
     "data": {
      "text/html": [
       "<div>\n",
       "<style scoped>\n",
       "    .dataframe tbody tr th:only-of-type {\n",
       "        vertical-align: middle;\n",
       "    }\n",
       "\n",
       "    .dataframe tbody tr th {\n",
       "        vertical-align: top;\n",
       "    }\n",
       "\n",
       "    .dataframe thead th {\n",
       "        text-align: right;\n",
       "    }\n",
       "</style>\n",
       "<table border=\"1\" class=\"dataframe\">\n",
       "  <thead>\n",
       "    <tr style=\"text-align: right;\">\n",
       "      <th></th>\n",
       "      <th>date</th>\n",
       "      <th>tic</th>\n",
       "      <th>open</th>\n",
       "      <th>high</th>\n",
       "      <th>low</th>\n",
       "      <th>close</th>\n",
       "      <th>volume</th>\n",
       "      <th>day</th>\n",
       "      <th>macd</th>\n",
       "      <th>macds</th>\n",
       "      <th>...</th>\n",
       "      <th>rsi_13</th>\n",
       "      <th>rsi_21</th>\n",
       "      <th>rsi_34</th>\n",
       "      <th>rsi_55</th>\n",
       "      <th>rsi_89</th>\n",
       "      <th>cci_30</th>\n",
       "      <th>dx_30</th>\n",
       "      <th>vix</th>\n",
       "      <th>turbulence</th>\n",
       "      <th>daily_return</th>\n",
       "    </tr>\n",
       "  </thead>\n",
       "  <tbody>\n",
       "    <tr>\n",
       "      <th>0</th>\n",
       "      <td>2008-12-31</td>\n",
       "      <td>CERS</td>\n",
       "      <td>0.7000</td>\n",
       "      <td>0.7000</td>\n",
       "      <td>0.640</td>\n",
       "      <td>0.700000</td>\n",
       "      <td>326200.0</td>\n",
       "      <td>2.0</td>\n",
       "      <td>0.000000</td>\n",
       "      <td>0.000000</td>\n",
       "      <td>...</td>\n",
       "      <td>100.0</td>\n",
       "      <td>100.0</td>\n",
       "      <td>100.0</td>\n",
       "      <td>100.0</td>\n",
       "      <td>100.0</td>\n",
       "      <td>66.666667</td>\n",
       "      <td>100.0</td>\n",
       "      <td>40.000000</td>\n",
       "      <td>0.0</td>\n",
       "      <td>-0.185714</td>\n",
       "    </tr>\n",
       "    <tr>\n",
       "      <th>1</th>\n",
       "      <td>2008-12-31</td>\n",
       "      <td>EXAS</td>\n",
       "      <td>0.5400</td>\n",
       "      <td>0.5700</td>\n",
       "      <td>0.520</td>\n",
       "      <td>0.570000</td>\n",
       "      <td>77900.0</td>\n",
       "      <td>2.0</td>\n",
       "      <td>0.000000</td>\n",
       "      <td>0.000000</td>\n",
       "      <td>...</td>\n",
       "      <td>100.0</td>\n",
       "      <td>100.0</td>\n",
       "      <td>100.0</td>\n",
       "      <td>100.0</td>\n",
       "      <td>100.0</td>\n",
       "      <td>66.666667</td>\n",
       "      <td>100.0</td>\n",
       "      <td>40.000000</td>\n",
       "      <td>0.0</td>\n",
       "      <td>-0.185714</td>\n",
       "    </tr>\n",
       "    <tr>\n",
       "      <th>2</th>\n",
       "      <td>2008-12-31</td>\n",
       "      <td>GEN</td>\n",
       "      <td>12.9700</td>\n",
       "      <td>13.6500</td>\n",
       "      <td>12.880</td>\n",
       "      <td>5.176326</td>\n",
       "      <td>7946200.0</td>\n",
       "      <td>2.0</td>\n",
       "      <td>0.000000</td>\n",
       "      <td>0.000000</td>\n",
       "      <td>...</td>\n",
       "      <td>100.0</td>\n",
       "      <td>100.0</td>\n",
       "      <td>100.0</td>\n",
       "      <td>100.0</td>\n",
       "      <td>100.0</td>\n",
       "      <td>66.666667</td>\n",
       "      <td>100.0</td>\n",
       "      <td>40.000000</td>\n",
       "      <td>0.0</td>\n",
       "      <td>8.081273</td>\n",
       "    </tr>\n",
       "    <tr>\n",
       "      <th>3</th>\n",
       "      <td>2008-12-31</td>\n",
       "      <td>NVDA</td>\n",
       "      <td>1.9800</td>\n",
       "      <td>2.0675</td>\n",
       "      <td>1.945</td>\n",
       "      <td>1.852039</td>\n",
       "      <td>44158000.0</td>\n",
       "      <td>2.0</td>\n",
       "      <td>0.000000</td>\n",
       "      <td>0.000000</td>\n",
       "      <td>...</td>\n",
       "      <td>100.0</td>\n",
       "      <td>100.0</td>\n",
       "      <td>100.0</td>\n",
       "      <td>100.0</td>\n",
       "      <td>100.0</td>\n",
       "      <td>66.666667</td>\n",
       "      <td>100.0</td>\n",
       "      <td>40.000000</td>\n",
       "      <td>0.0</td>\n",
       "      <td>-0.642210</td>\n",
       "    </tr>\n",
       "    <tr>\n",
       "      <th>4</th>\n",
       "      <td>2009-01-02</td>\n",
       "      <td>CERS</td>\n",
       "      <td>0.7000</td>\n",
       "      <td>0.8200</td>\n",
       "      <td>0.690</td>\n",
       "      <td>0.820000</td>\n",
       "      <td>243300.0</td>\n",
       "      <td>4.0</td>\n",
       "      <td>0.002692</td>\n",
       "      <td>0.001496</td>\n",
       "      <td>...</td>\n",
       "      <td>100.0</td>\n",
       "      <td>100.0</td>\n",
       "      <td>100.0</td>\n",
       "      <td>100.0</td>\n",
       "      <td>100.0</td>\n",
       "      <td>66.666667</td>\n",
       "      <td>100.0</td>\n",
       "      <td>39.189999</td>\n",
       "      <td>0.0</td>\n",
       "      <td>-0.557245</td>\n",
       "    </tr>\n",
       "    <tr>\n",
       "      <th>5</th>\n",
       "      <td>2009-01-02</td>\n",
       "      <td>EXAS</td>\n",
       "      <td>0.5700</td>\n",
       "      <td>0.5800</td>\n",
       "      <td>0.530</td>\n",
       "      <td>0.580000</td>\n",
       "      <td>81200.0</td>\n",
       "      <td>4.0</td>\n",
       "      <td>0.000224</td>\n",
       "      <td>0.000125</td>\n",
       "      <td>...</td>\n",
       "      <td>100.0</td>\n",
       "      <td>100.0</td>\n",
       "      <td>100.0</td>\n",
       "      <td>100.0</td>\n",
       "      <td>100.0</td>\n",
       "      <td>66.666667</td>\n",
       "      <td>100.0</td>\n",
       "      <td>39.189999</td>\n",
       "      <td>0.0</td>\n",
       "      <td>-0.292683</td>\n",
       "    </tr>\n",
       "    <tr>\n",
       "      <th>6</th>\n",
       "      <td>2009-01-02</td>\n",
       "      <td>GEN</td>\n",
       "      <td>13.5900</td>\n",
       "      <td>14.8700</td>\n",
       "      <td>13.480</td>\n",
       "      <td>5.666391</td>\n",
       "      <td>12527000.0</td>\n",
       "      <td>4.0</td>\n",
       "      <td>0.010995</td>\n",
       "      <td>0.006108</td>\n",
       "      <td>...</td>\n",
       "      <td>100.0</td>\n",
       "      <td>100.0</td>\n",
       "      <td>100.0</td>\n",
       "      <td>100.0</td>\n",
       "      <td>100.0</td>\n",
       "      <td>66.666667</td>\n",
       "      <td>100.0</td>\n",
       "      <td>39.189999</td>\n",
       "      <td>0.0</td>\n",
       "      <td>8.769641</td>\n",
       "    </tr>\n",
       "    <tr>\n",
       "      <th>7</th>\n",
       "      <td>2009-01-02</td>\n",
       "      <td>NVDA</td>\n",
       "      <td>2.0175</td>\n",
       "      <td>2.1925</td>\n",
       "      <td>2.010</td>\n",
       "      <td>1.998916</td>\n",
       "      <td>49712400.0</td>\n",
       "      <td>4.0</td>\n",
       "      <td>0.003295</td>\n",
       "      <td>0.001831</td>\n",
       "      <td>...</td>\n",
       "      <td>100.0</td>\n",
       "      <td>100.0</td>\n",
       "      <td>100.0</td>\n",
       "      <td>100.0</td>\n",
       "      <td>100.0</td>\n",
       "      <td>66.666667</td>\n",
       "      <td>100.0</td>\n",
       "      <td>39.189999</td>\n",
       "      <td>0.0</td>\n",
       "      <td>-0.647233</td>\n",
       "    </tr>\n",
       "    <tr>\n",
       "      <th>8</th>\n",
       "      <td>2009-01-05</td>\n",
       "      <td>CERS</td>\n",
       "      <td>0.8000</td>\n",
       "      <td>0.8700</td>\n",
       "      <td>0.800</td>\n",
       "      <td>0.850000</td>\n",
       "      <td>151000.0</td>\n",
       "      <td>0.0</td>\n",
       "      <td>0.004361</td>\n",
       "      <td>0.002670</td>\n",
       "      <td>...</td>\n",
       "      <td>100.0</td>\n",
       "      <td>100.0</td>\n",
       "      <td>100.0</td>\n",
       "      <td>100.0</td>\n",
       "      <td>100.0</td>\n",
       "      <td>87.012993</td>\n",
       "      <td>100.0</td>\n",
       "      <td>39.080002</td>\n",
       "      <td>0.0</td>\n",
       "      <td>-0.574770</td>\n",
       "    </tr>\n",
       "    <tr>\n",
       "      <th>9</th>\n",
       "      <td>2009-01-05</td>\n",
       "      <td>EXAS</td>\n",
       "      <td>0.5900</td>\n",
       "      <td>0.6500</td>\n",
       "      <td>0.590</td>\n",
       "      <td>0.650000</td>\n",
       "      <td>53200.0</td>\n",
       "      <td>0.0</td>\n",
       "      <td>0.002457</td>\n",
       "      <td>0.001080</td>\n",
       "      <td>...</td>\n",
       "      <td>100.0</td>\n",
       "      <td>100.0</td>\n",
       "      <td>100.0</td>\n",
       "      <td>100.0</td>\n",
       "      <td>100.0</td>\n",
       "      <td>100.000000</td>\n",
       "      <td>100.0</td>\n",
       "      <td>39.080002</td>\n",
       "      <td>0.0</td>\n",
       "      <td>-0.235294</td>\n",
       "    </tr>\n",
       "  </tbody>\n",
       "</table>\n",
       "<p>10 rows × 24 columns</p>\n",
       "</div>"
      ],
      "text/plain": [
       "         date   tic     open     high     low     close      volume  day  \\\n",
       "0  2008-12-31  CERS   0.7000   0.7000   0.640  0.700000    326200.0  2.0   \n",
       "1  2008-12-31  EXAS   0.5400   0.5700   0.520  0.570000     77900.0  2.0   \n",
       "2  2008-12-31   GEN  12.9700  13.6500  12.880  5.176326   7946200.0  2.0   \n",
       "3  2008-12-31  NVDA   1.9800   2.0675   1.945  1.852039  44158000.0  2.0   \n",
       "4  2009-01-02  CERS   0.7000   0.8200   0.690  0.820000    243300.0  4.0   \n",
       "5  2009-01-02  EXAS   0.5700   0.5800   0.530  0.580000     81200.0  4.0   \n",
       "6  2009-01-02   GEN  13.5900  14.8700  13.480  5.666391  12527000.0  4.0   \n",
       "7  2009-01-02  NVDA   2.0175   2.1925   2.010  1.998916  49712400.0  4.0   \n",
       "8  2009-01-05  CERS   0.8000   0.8700   0.800  0.850000    151000.0  0.0   \n",
       "9  2009-01-05  EXAS   0.5900   0.6500   0.590  0.650000     53200.0  0.0   \n",
       "\n",
       "       macd     macds  ...  rsi_13  rsi_21  rsi_34  rsi_55  rsi_89  \\\n",
       "0  0.000000  0.000000  ...   100.0   100.0   100.0   100.0   100.0   \n",
       "1  0.000000  0.000000  ...   100.0   100.0   100.0   100.0   100.0   \n",
       "2  0.000000  0.000000  ...   100.0   100.0   100.0   100.0   100.0   \n",
       "3  0.000000  0.000000  ...   100.0   100.0   100.0   100.0   100.0   \n",
       "4  0.002692  0.001496  ...   100.0   100.0   100.0   100.0   100.0   \n",
       "5  0.000224  0.000125  ...   100.0   100.0   100.0   100.0   100.0   \n",
       "6  0.010995  0.006108  ...   100.0   100.0   100.0   100.0   100.0   \n",
       "7  0.003295  0.001831  ...   100.0   100.0   100.0   100.0   100.0   \n",
       "8  0.004361  0.002670  ...   100.0   100.0   100.0   100.0   100.0   \n",
       "9  0.002457  0.001080  ...   100.0   100.0   100.0   100.0   100.0   \n",
       "\n",
       "       cci_30  dx_30        vix  turbulence  daily_return  \n",
       "0   66.666667  100.0  40.000000         0.0     -0.185714  \n",
       "1   66.666667  100.0  40.000000         0.0     -0.185714  \n",
       "2   66.666667  100.0  40.000000         0.0      8.081273  \n",
       "3   66.666667  100.0  40.000000         0.0     -0.642210  \n",
       "4   66.666667  100.0  39.189999         0.0     -0.557245  \n",
       "5   66.666667  100.0  39.189999         0.0     -0.292683  \n",
       "6   66.666667  100.0  39.189999         0.0      8.769641  \n",
       "7   66.666667  100.0  39.189999         0.0     -0.647233  \n",
       "8   87.012993  100.0  39.080002         0.0     -0.574770  \n",
       "9  100.000000  100.0  39.080002         0.0     -0.235294  \n",
       "\n",
       "[10 rows x 24 columns]"
      ]
     },
     "execution_count": 15,
     "metadata": {},
     "output_type": "execute_result"
    }
   ],
   "source": [
    "processed_full.sort_values(['date','tic'],ignore_index=True).head(10)"
   ]
  },
  {
   "cell_type": "code",
   "execution_count": null,
   "metadata": {},
   "outputs": [],
   "source": []
  },
  {
   "cell_type": "markdown",
   "metadata": {
    "id": "-QsYaY0Dh1iw"
   },
   "source": [
    "<a id='4'></a>\n",
    "# Part 5. Build A Market Environment in OpenAI Gym-style\n",
    "The training process involves observing stock price change, taking an action and reward's calculation. By interacting with the market environment, the agent will eventually derive a trading strategy that may maximize (expected) rewards.\n",
    "\n",
    "Our market environment, based on OpenAI Gym, simulates stock markets with historical market data."
   ]
  },
  {
   "cell_type": "markdown",
   "metadata": {
    "id": "5TOhcryx44bb"
   },
   "source": [
    "## Data Split\n",
    "We split the data into training set and testing set as follows:\n",
    "\n",
    "Training data period: 2009-01-01 to 2020-07-01\n",
    "\n",
    "Trading data period: 2020-07-01 to 2021-10-31\n"
   ]
  },
  {
   "cell_type": "code",
   "execution_count": 16,
   "metadata": {
    "colab": {
     "base_uri": "https://localhost:8080/"
    },
    "id": "W0qaVGjLtgbI",
    "outputId": "ac9f2699-65c6-418f-cca4-f0f166973f65"
   },
   "outputs": [
    {
     "name": "stdout",
     "output_type": "stream",
     "text": [
      "6040\n",
      "1876\n"
     ]
    }
   ],
   "source": [
    "train = data_split(processed_full, TRAIN_START_DATE,TRAIN_END_DATE)\n",
    "trade = data_split(processed_full, TRADE_START_DATE,TRADE_END_DATE)\n",
    "print(len(train))\n",
    "print(len(trade))"
   ]
  },
  {
   "cell_type": "code",
   "execution_count": 17,
   "metadata": {
    "colab": {
     "base_uri": "https://localhost:8080/",
     "height": 357
    },
    "id": "p52zNCOhTtLR",
    "outputId": "14568787-e92d-4d9b-dbce-9e11b3fb1390"
   },
   "outputs": [
    {
     "data": {
      "text/html": [
       "<div>\n",
       "<style scoped>\n",
       "    .dataframe tbody tr th:only-of-type {\n",
       "        vertical-align: middle;\n",
       "    }\n",
       "\n",
       "    .dataframe tbody tr th {\n",
       "        vertical-align: top;\n",
       "    }\n",
       "\n",
       "    .dataframe thead th {\n",
       "        text-align: right;\n",
       "    }\n",
       "</style>\n",
       "<table border=\"1\" class=\"dataframe\">\n",
       "  <thead>\n",
       "    <tr style=\"text-align: right;\">\n",
       "      <th></th>\n",
       "      <th>date</th>\n",
       "      <th>tic</th>\n",
       "      <th>open</th>\n",
       "      <th>high</th>\n",
       "      <th>low</th>\n",
       "      <th>close</th>\n",
       "      <th>volume</th>\n",
       "      <th>day</th>\n",
       "      <th>macd</th>\n",
       "      <th>macds</th>\n",
       "      <th>...</th>\n",
       "      <th>rsi_13</th>\n",
       "      <th>rsi_21</th>\n",
       "      <th>rsi_34</th>\n",
       "      <th>rsi_55</th>\n",
       "      <th>rsi_89</th>\n",
       "      <th>cci_30</th>\n",
       "      <th>dx_30</th>\n",
       "      <th>vix</th>\n",
       "      <th>turbulence</th>\n",
       "      <th>daily_return</th>\n",
       "    </tr>\n",
       "  </thead>\n",
       "  <tbody>\n",
       "    <tr>\n",
       "      <th>1508</th>\n",
       "      <td>2014-12-30</td>\n",
       "      <td>NVDA</td>\n",
       "      <td>5.105</td>\n",
       "      <td>5.130000</td>\n",
       "      <td>5.085000</td>\n",
       "      <td>4.893847</td>\n",
       "      <td>11212000.0</td>\n",
       "      <td>1.0</td>\n",
       "      <td>0.032833</td>\n",
       "      <td>0.036928</td>\n",
       "      <td>...</td>\n",
       "      <td>51.411925</td>\n",
       "      <td>53.470940</td>\n",
       "      <td>54.305249</td>\n",
       "      <td>54.294491</td>\n",
       "      <td>54.171784</td>\n",
       "      <td>-3.673849</td>\n",
       "      <td>10.379188</td>\n",
       "      <td>15.920000</td>\n",
       "      <td>0.760610</td>\n",
       "      <td>-0.530582</td>\n",
       "    </tr>\n",
       "    <tr>\n",
       "      <th>1509</th>\n",
       "      <td>2014-12-31</td>\n",
       "      <td>CERS</td>\n",
       "      <td>6.230</td>\n",
       "      <td>6.380000</td>\n",
       "      <td>6.180000</td>\n",
       "      <td>6.240000</td>\n",
       "      <td>951400.0</td>\n",
       "      <td>2.0</td>\n",
       "      <td>0.553707</td>\n",
       "      <td>0.493413</td>\n",
       "      <td>...</td>\n",
       "      <td>66.487460</td>\n",
       "      <td>66.846707</td>\n",
       "      <td>65.210128</td>\n",
       "      <td>61.859058</td>\n",
       "      <td>57.820955</td>\n",
       "      <td>95.538053</td>\n",
       "      <td>47.188685</td>\n",
       "      <td>19.200001</td>\n",
       "      <td>2.674435</td>\n",
       "      <td>0.275070</td>\n",
       "    </tr>\n",
       "    <tr>\n",
       "      <th>1509</th>\n",
       "      <td>2014-12-31</td>\n",
       "      <td>EXAS</td>\n",
       "      <td>28.480</td>\n",
       "      <td>28.990000</td>\n",
       "      <td>27.379999</td>\n",
       "      <td>27.440001</td>\n",
       "      <td>903700.0</td>\n",
       "      <td>2.0</td>\n",
       "      <td>0.883273</td>\n",
       "      <td>0.928391</td>\n",
       "      <td>...</td>\n",
       "      <td>53.357637</td>\n",
       "      <td>55.297726</td>\n",
       "      <td>56.433350</td>\n",
       "      <td>56.997501</td>\n",
       "      <td>57.057175</td>\n",
       "      <td>59.217110</td>\n",
       "      <td>10.020861</td>\n",
       "      <td>19.200001</td>\n",
       "      <td>2.674435</td>\n",
       "      <td>3.397436</td>\n",
       "    </tr>\n",
       "    <tr>\n",
       "      <th>1509</th>\n",
       "      <td>2014-12-31</td>\n",
       "      <td>GEN</td>\n",
       "      <td>26.080</td>\n",
       "      <td>26.290001</td>\n",
       "      <td>25.610001</td>\n",
       "      <td>10.281108</td>\n",
       "      <td>2536400.0</td>\n",
       "      <td>2.0</td>\n",
       "      <td>0.078846</td>\n",
       "      <td>0.093220</td>\n",
       "      <td>...</td>\n",
       "      <td>47.383899</td>\n",
       "      <td>51.458744</td>\n",
       "      <td>53.800870</td>\n",
       "      <td>54.792408</td>\n",
       "      <td>54.658896</td>\n",
       "      <td>2.708225</td>\n",
       "      <td>5.829724</td>\n",
       "      <td>19.200001</td>\n",
       "      <td>2.674435</td>\n",
       "      <td>-0.625324</td>\n",
       "    </tr>\n",
       "    <tr>\n",
       "      <th>1509</th>\n",
       "      <td>2014-12-31</td>\n",
       "      <td>NVDA</td>\n",
       "      <td>5.100</td>\n",
       "      <td>5.127500</td>\n",
       "      <td>4.997500</td>\n",
       "      <td>4.816967</td>\n",
       "      <td>16630000.0</td>\n",
       "      <td>2.0</td>\n",
       "      <td>0.023239</td>\n",
       "      <td>0.034191</td>\n",
       "      <td>...</td>\n",
       "      <td>45.509730</td>\n",
       "      <td>49.785116</td>\n",
       "      <td>52.008286</td>\n",
       "      <td>52.849991</td>\n",
       "      <td>53.247857</td>\n",
       "      <td>-54.712605</td>\n",
       "      <td>2.790057</td>\n",
       "      <td>19.200001</td>\n",
       "      <td>2.674435</td>\n",
       "      <td>-0.531474</td>\n",
       "    </tr>\n",
       "  </tbody>\n",
       "</table>\n",
       "<p>5 rows × 24 columns</p>\n",
       "</div>"
      ],
      "text/plain": [
       "            date   tic    open       high        low      close      volume  \\\n",
       "1508  2014-12-30  NVDA   5.105   5.130000   5.085000   4.893847  11212000.0   \n",
       "1509  2014-12-31  CERS   6.230   6.380000   6.180000   6.240000    951400.0   \n",
       "1509  2014-12-31  EXAS  28.480  28.990000  27.379999  27.440001    903700.0   \n",
       "1509  2014-12-31   GEN  26.080  26.290001  25.610001  10.281108   2536400.0   \n",
       "1509  2014-12-31  NVDA   5.100   5.127500   4.997500   4.816967  16630000.0   \n",
       "\n",
       "      day      macd     macds  ...     rsi_13     rsi_21     rsi_34  \\\n",
       "1508  1.0  0.032833  0.036928  ...  51.411925  53.470940  54.305249   \n",
       "1509  2.0  0.553707  0.493413  ...  66.487460  66.846707  65.210128   \n",
       "1509  2.0  0.883273  0.928391  ...  53.357637  55.297726  56.433350   \n",
       "1509  2.0  0.078846  0.093220  ...  47.383899  51.458744  53.800870   \n",
       "1509  2.0  0.023239  0.034191  ...  45.509730  49.785116  52.008286   \n",
       "\n",
       "         rsi_55     rsi_89     cci_30      dx_30        vix  turbulence  \\\n",
       "1508  54.294491  54.171784  -3.673849  10.379188  15.920000    0.760610   \n",
       "1509  61.859058  57.820955  95.538053  47.188685  19.200001    2.674435   \n",
       "1509  56.997501  57.057175  59.217110  10.020861  19.200001    2.674435   \n",
       "1509  54.792408  54.658896   2.708225   5.829724  19.200001    2.674435   \n",
       "1509  52.849991  53.247857 -54.712605   2.790057  19.200001    2.674435   \n",
       "\n",
       "      daily_return  \n",
       "1508     -0.530582  \n",
       "1509      0.275070  \n",
       "1509      3.397436  \n",
       "1509     -0.625324  \n",
       "1509     -0.531474  \n",
       "\n",
       "[5 rows x 24 columns]"
      ]
     },
     "execution_count": 17,
     "metadata": {},
     "output_type": "execute_result"
    }
   ],
   "source": [
    "train.tail()"
   ]
  },
  {
   "cell_type": "code",
   "execution_count": 18,
   "metadata": {
    "colab": {
     "base_uri": "https://localhost:8080/",
     "height": 357
    },
    "id": "k9zU9YaTTvFq",
    "outputId": "80e64947-4c5c-428f-a98c-6b344d816783"
   },
   "outputs": [
    {
     "data": {
      "text/html": [
       "<div>\n",
       "<style scoped>\n",
       "    .dataframe tbody tr th:only-of-type {\n",
       "        vertical-align: middle;\n",
       "    }\n",
       "\n",
       "    .dataframe tbody tr th {\n",
       "        vertical-align: top;\n",
       "    }\n",
       "\n",
       "    .dataframe thead th {\n",
       "        text-align: right;\n",
       "    }\n",
       "</style>\n",
       "<table border=\"1\" class=\"dataframe\">\n",
       "  <thead>\n",
       "    <tr style=\"text-align: right;\">\n",
       "      <th></th>\n",
       "      <th>date</th>\n",
       "      <th>tic</th>\n",
       "      <th>open</th>\n",
       "      <th>high</th>\n",
       "      <th>low</th>\n",
       "      <th>close</th>\n",
       "      <th>volume</th>\n",
       "      <th>day</th>\n",
       "      <th>macd</th>\n",
       "      <th>macds</th>\n",
       "      <th>...</th>\n",
       "      <th>rsi_13</th>\n",
       "      <th>rsi_21</th>\n",
       "      <th>rsi_34</th>\n",
       "      <th>rsi_55</th>\n",
       "      <th>rsi_89</th>\n",
       "      <th>cci_30</th>\n",
       "      <th>dx_30</th>\n",
       "      <th>vix</th>\n",
       "      <th>turbulence</th>\n",
       "      <th>daily_return</th>\n",
       "    </tr>\n",
       "  </thead>\n",
       "  <tbody>\n",
       "    <tr>\n",
       "      <th>0</th>\n",
       "      <td>2016-01-04</td>\n",
       "      <td>CERS</td>\n",
       "      <td>6.190000</td>\n",
       "      <td>6.270</td>\n",
       "      <td>6.030000</td>\n",
       "      <td>6.240000</td>\n",
       "      <td>1182500.0</td>\n",
       "      <td>0.0</td>\n",
       "      <td>0.215214</td>\n",
       "      <td>0.227705</td>\n",
       "      <td>...</td>\n",
       "      <td>56.843943</td>\n",
       "      <td>58.196854</td>\n",
       "      <td>57.636392</td>\n",
       "      <td>56.163192</td>\n",
       "      <td>54.620297</td>\n",
       "      <td>56.267999</td>\n",
       "      <td>10.901308</td>\n",
       "      <td>20.700001</td>\n",
       "      <td>1.017077</td>\n",
       "      <td>-0.224835</td>\n",
       "    </tr>\n",
       "    <tr>\n",
       "      <th>0</th>\n",
       "      <td>2016-01-04</td>\n",
       "      <td>EXAS</td>\n",
       "      <td>8.980000</td>\n",
       "      <td>9.110</td>\n",
       "      <td>8.480000</td>\n",
       "      <td>9.000000</td>\n",
       "      <td>2326400.0</td>\n",
       "      <td>0.0</td>\n",
       "      <td>0.047627</td>\n",
       "      <td>-0.032850</td>\n",
       "      <td>...</td>\n",
       "      <td>47.291835</td>\n",
       "      <td>44.772234</td>\n",
       "      <td>41.132734</td>\n",
       "      <td>39.994055</td>\n",
       "      <td>41.396262</td>\n",
       "      <td>-16.827420</td>\n",
       "      <td>6.640800</td>\n",
       "      <td>20.700001</td>\n",
       "      <td>1.017077</td>\n",
       "      <td>0.442308</td>\n",
       "    </tr>\n",
       "    <tr>\n",
       "      <th>0</th>\n",
       "      <td>2016-01-04</td>\n",
       "      <td>GEN</td>\n",
       "      <td>20.549999</td>\n",
       "      <td>20.850</td>\n",
       "      <td>20.360001</td>\n",
       "      <td>8.577427</td>\n",
       "      <td>5265200.0</td>\n",
       "      <td>0.0</td>\n",
       "      <td>0.120751</td>\n",
       "      <td>0.088442</td>\n",
       "      <td>...</td>\n",
       "      <td>57.715484</td>\n",
       "      <td>56.437157</td>\n",
       "      <td>53.446689</td>\n",
       "      <td>50.447841</td>\n",
       "      <td>48.809844</td>\n",
       "      <td>70.333836</td>\n",
       "      <td>3.360028</td>\n",
       "      <td>20.700001</td>\n",
       "      <td>1.017077</td>\n",
       "      <td>-0.046953</td>\n",
       "    </tr>\n",
       "    <tr>\n",
       "      <th>0</th>\n",
       "      <td>2016-01-04</td>\n",
       "      <td>NVDA</td>\n",
       "      <td>8.072500</td>\n",
       "      <td>8.145</td>\n",
       "      <td>8.010000</td>\n",
       "      <td>7.905807</td>\n",
       "      <td>35807600.0</td>\n",
       "      <td>0.0</td>\n",
       "      <td>0.123279</td>\n",
       "      <td>0.164436</td>\n",
       "      <td>...</td>\n",
       "      <td>48.912159</td>\n",
       "      <td>54.889946</td>\n",
       "      <td>58.508240</td>\n",
       "      <td>59.784583</td>\n",
       "      <td>59.472231</td>\n",
       "      <td>-22.474714</td>\n",
       "      <td>4.275175</td>\n",
       "      <td>20.700001</td>\n",
       "      <td>1.017077</td>\n",
       "      <td>-0.078301</td>\n",
       "    </tr>\n",
       "    <tr>\n",
       "      <th>1</th>\n",
       "      <td>2016-01-05</td>\n",
       "      <td>CERS</td>\n",
       "      <td>6.490000</td>\n",
       "      <td>6.660</td>\n",
       "      <td>6.280000</td>\n",
       "      <td>6.400000</td>\n",
       "      <td>1778600.0</td>\n",
       "      <td>1.0</td>\n",
       "      <td>0.213722</td>\n",
       "      <td>0.224909</td>\n",
       "      <td>...</td>\n",
       "      <td>60.731882</td>\n",
       "      <td>60.584121</td>\n",
       "      <td>59.172261</td>\n",
       "      <td>57.172443</td>\n",
       "      <td>55.281579</td>\n",
       "      <td>103.715720</td>\n",
       "      <td>26.591215</td>\n",
       "      <td>19.340000</td>\n",
       "      <td>2.819179</td>\n",
       "      <td>-0.190468</td>\n",
       "    </tr>\n",
       "  </tbody>\n",
       "</table>\n",
       "<p>5 rows × 24 columns</p>\n",
       "</div>"
      ],
      "text/plain": [
       "         date   tic       open    high        low     close      volume  day  \\\n",
       "0  2016-01-04  CERS   6.190000   6.270   6.030000  6.240000   1182500.0  0.0   \n",
       "0  2016-01-04  EXAS   8.980000   9.110   8.480000  9.000000   2326400.0  0.0   \n",
       "0  2016-01-04   GEN  20.549999  20.850  20.360001  8.577427   5265200.0  0.0   \n",
       "0  2016-01-04  NVDA   8.072500   8.145   8.010000  7.905807  35807600.0  0.0   \n",
       "1  2016-01-05  CERS   6.490000   6.660   6.280000  6.400000   1778600.0  1.0   \n",
       "\n",
       "       macd     macds  ...     rsi_13     rsi_21     rsi_34     rsi_55  \\\n",
       "0  0.215214  0.227705  ...  56.843943  58.196854  57.636392  56.163192   \n",
       "0  0.047627 -0.032850  ...  47.291835  44.772234  41.132734  39.994055   \n",
       "0  0.120751  0.088442  ...  57.715484  56.437157  53.446689  50.447841   \n",
       "0  0.123279  0.164436  ...  48.912159  54.889946  58.508240  59.784583   \n",
       "1  0.213722  0.224909  ...  60.731882  60.584121  59.172261  57.172443   \n",
       "\n",
       "      rsi_89      cci_30      dx_30        vix  turbulence  daily_return  \n",
       "0  54.620297   56.267999  10.901308  20.700001    1.017077     -0.224835  \n",
       "0  41.396262  -16.827420   6.640800  20.700001    1.017077      0.442308  \n",
       "0  48.809844   70.333836   3.360028  20.700001    1.017077     -0.046953  \n",
       "0  59.472231  -22.474714   4.275175  20.700001    1.017077     -0.078301  \n",
       "1  55.281579  103.715720  26.591215  19.340000    2.819179     -0.190468  \n",
       "\n",
       "[5 rows x 24 columns]"
      ]
     },
     "execution_count": 18,
     "metadata": {},
     "output_type": "execute_result"
    }
   ],
   "source": [
    "trade.head()"
   ]
  },
  {
   "cell_type": "code",
   "execution_count": 19,
   "metadata": {
    "colab": {
     "base_uri": "https://localhost:8080/"
    },
    "id": "zYN573SOHhxG",
    "outputId": "460cd177-65d2-46f8-eb40-eaeda045c4bb"
   },
   "outputs": [
    {
     "data": {
      "text/plain": [
       "['macd',\n",
       " 'macds',\n",
       " 'macdh',\n",
       " 'boll_ub',\n",
       " 'boll',\n",
       " 'boll_lb',\n",
       " 'rsi_13',\n",
       " 'rsi_21',\n",
       " 'rsi_34',\n",
       " 'rsi_55',\n",
       " 'rsi_89',\n",
       " 'cci_30',\n",
       " 'dx_30']"
      ]
     },
     "execution_count": 19,
     "metadata": {},
     "output_type": "execute_result"
    }
   ],
   "source": [
    "INDICATORS"
   ]
  },
  {
   "cell_type": "code",
   "execution_count": 20,
   "metadata": {
    "colab": {
     "base_uri": "https://localhost:8080/"
    },
    "id": "Q2zqII8rMIqn",
    "outputId": "d2e2b678-04f8-44be-96ea-3523903780eb"
   },
   "outputs": [
    {
     "name": "stdout",
     "output_type": "stream",
     "text": [
      "Stock Dimension: 4, State Space: 61\n"
     ]
    }
   ],
   "source": [
    "stock_dimension = len(train.tic.unique())\n",
    "state_space = 1 + 2*stock_dimension + len(INDICATORS)*stock_dimension\n",
    "print(f\"Stock Dimension: {stock_dimension}, State Space: {state_space}\")\n"
   ]
  },
  {
   "cell_type": "code",
   "execution_count": 21,
   "metadata": {
    "id": "AWyp84Ltto19"
   },
   "outputs": [],
   "source": [
    "buy_cost_list = sell_cost_list = [0.001] * stock_dimension\n",
    "num_stock_shares = [0] * stock_dimension\n",
    "\n",
    "env_kwargs = {\n",
    "    \"hmax\": 100,\n",
    "    \"initial_amount\": 100000,\n",
    "    \"num_stock_shares\": num_stock_shares,\n",
    "    \"buy_cost_pct\": buy_cost_list,\n",
    "    \"sell_cost_pct\": sell_cost_list,\n",
    "    \"state_space\": state_space,\n",
    "    \"stock_dim\": stock_dimension,\n",
    "    \"tech_indicator_list\": INDICATORS,\n",
    "    \"action_space\": stock_dimension,\n",
    "    \"reward_scaling\": 1e-4\n",
    "}\n",
    "\n",
    "\n",
    "e_train_gym = StockTradingEnv(df = train, **env_kwargs)\n"
   ]
  },
  {
   "cell_type": "markdown",
   "metadata": {
    "id": "64EoqOrQjiVf"
   },
   "source": [
    "## Environment for Training\n",
    "\n"
   ]
  },
  {
   "cell_type": "code",
   "execution_count": 22,
   "metadata": {
    "colab": {
     "base_uri": "https://localhost:8080/"
    },
    "id": "xwSvvPjutpqS",
    "outputId": "3645668e-ba1f-4610-9789-bc212eb9b776"
   },
   "outputs": [
    {
     "name": "stdout",
     "output_type": "stream",
     "text": [
      "<class 'stable_baselines3.common.vec_env.dummy_vec_env.DummyVecEnv'>\n"
     ]
    }
   ],
   "source": [
    "env_train, _ = e_train_gym.get_sb_env()\n",
    "print(type(env_train))"
   ]
  },
  {
   "cell_type": "markdown",
   "metadata": {
    "id": "HMNR5nHjh1iz"
   },
   "source": [
    "<a id='5'></a>\n",
    "# Part 6: Train DRL Agents\n",
    "* The DRL algorithms are from **Stable Baselines 3**. Users are also encouraged to try **ElegantRL** and **Ray RLlib**.\n",
    "* FinRL includes fine-tuned standard DRL algorithms, such as DQN, DDPG, Multi-Agent DDPG, PPO, SAC, A2C and TD3. We also allow users to\n",
    "design their own DRL algorithms by adapting these DRL algorithms."
   ]
  },
  {
   "cell_type": "code",
   "execution_count": 23,
   "metadata": {
    "id": "364PsqckttcQ"
   },
   "outputs": [],
   "source": [
    "agent = DRLAgent(env = env_train)\n",
    "\n",
    "if_using_a2c = True\n",
    "if_using_ddpg = True\n",
    "if_using_ppo = True\n",
    "if_using_td3 = True\n",
    "if_using_sac = True\n"
   ]
  },
  {
   "cell_type": "markdown",
   "metadata": {
    "id": "YDmqOyF9h1iz"
   },
   "source": [
    "### Agent Training: 5 algorithms (A2C, DDPG, PPO, TD3, SAC)\n"
   ]
  },
  {
   "cell_type": "markdown",
   "metadata": {
    "id": "uijiWgkuh1jB"
   },
   "source": [
    "### Agent 1: A2C\n"
   ]
  },
  {
   "cell_type": "code",
   "execution_count": 24,
   "metadata": {
    "colab": {
     "base_uri": "https://localhost:8080/"
    },
    "id": "GUCnkn-HIbmj",
    "outputId": "a2bdd15c-c366-4f89-e6de-6b0572c2ad23"
   },
   "outputs": [
    {
     "name": "stdout",
     "output_type": "stream",
     "text": [
      "{'n_steps': 5, 'ent_coef': 0.01, 'learning_rate': 0.0007}\n",
      "Using cuda device\n",
      "Logging to results/a2c\n"
     ]
    }
   ],
   "source": [
    "agent = DRLAgent(env = env_train)\n",
    "model_a2c = agent.get_model(\"a2c\")\n",
    "\n",
    "if if_using_a2c:\n",
    "\n",
    "  # set up logger\n",
    "  tmp_path = RESULTS_DIR + '/a2c'\n",
    "  new_logger_a2c = configure(tmp_path, [\"stdout\", \"csv\", \"tensorboard\"])\n",
    "  # Set new logger\n",
    "  model_a2c.set_logger(new_logger_a2c)\n"
   ]
  },
  {
   "cell_type": "code",
   "execution_count": 25,
   "metadata": {
    "id": "0GVpkWGqH4-D",
    "scrolled": true
   },
   "outputs": [
    {
     "name": "stdout",
     "output_type": "stream",
     "text": [
      "---------------------------------------\n",
      "| time/                 |             |\n",
      "|    fps                | 307         |\n",
      "|    iterations         | 100         |\n",
      "|    time_elapsed       | 1           |\n",
      "|    total_timesteps    | 500         |\n",
      "| train/                |             |\n",
      "|    entropy_loss       | -5.85       |\n",
      "|    explained_variance | 0           |\n",
      "|    learning_rate      | 0.0007      |\n",
      "|    n_updates          | 99          |\n",
      "|    policy_loss        | 0.71        |\n",
      "|    reward             | -0.21235326 |\n",
      "|    std                | 1.04        |\n",
      "|    value_loss         | 0.047       |\n",
      "---------------------------------------\n",
      "---------------------------------------\n",
      "| time/                 |             |\n",
      "|    fps                | 358         |\n",
      "|    iterations         | 200         |\n",
      "|    time_elapsed       | 2           |\n",
      "|    total_timesteps    | 1000        |\n",
      "| train/                |             |\n",
      "|    entropy_loss       | -5.85       |\n",
      "|    explained_variance | 0           |\n",
      "|    learning_rate      | 0.0007      |\n",
      "|    n_updates          | 199         |\n",
      "|    policy_loss        | -1.95       |\n",
      "|    reward             | -0.09495711 |\n",
      "|    std                | 1.04        |\n",
      "|    value_loss         | 0.133       |\n",
      "---------------------------------------\n",
      "--------------------------------------\n",
      "| time/                 |            |\n",
      "|    fps                | 380        |\n",
      "|    iterations         | 300        |\n",
      "|    time_elapsed       | 3          |\n",
      "|    total_timesteps    | 1500       |\n",
      "| train/                |            |\n",
      "|    entropy_loss       | -5.87      |\n",
      "|    explained_variance | -0.406     |\n",
      "|    learning_rate      | 0.0007     |\n",
      "|    n_updates          | 299        |\n",
      "|    policy_loss        | -3.7       |\n",
      "|    reward             | 0.43594432 |\n",
      "|    std                | 1.05       |\n",
      "|    value_loss         | 0.452      |\n",
      "--------------------------------------\n",
      "---------------------------------------\n",
      "| time/                 |             |\n",
      "|    fps                | 392         |\n",
      "|    iterations         | 400         |\n",
      "|    time_elapsed       | 5           |\n",
      "|    total_timesteps    | 2000        |\n",
      "| train/                |             |\n",
      "|    entropy_loss       | -5.91       |\n",
      "|    explained_variance | 1.19e-07    |\n",
      "|    learning_rate      | 0.0007      |\n",
      "|    n_updates          | 399         |\n",
      "|    policy_loss        | -1.61       |\n",
      "|    reward             | -0.21389788 |\n",
      "|    std                | 1.06        |\n",
      "|    value_loss         | 0.0744      |\n",
      "---------------------------------------\n",
      "---------------------------------------\n",
      "| time/                 |             |\n",
      "|    fps                | 401         |\n",
      "|    iterations         | 500         |\n",
      "|    time_elapsed       | 6           |\n",
      "|    total_timesteps    | 2500        |\n",
      "| train/                |             |\n",
      "|    entropy_loss       | -5.9        |\n",
      "|    explained_variance | -0.948      |\n",
      "|    learning_rate      | 0.0007      |\n",
      "|    n_updates          | 499         |\n",
      "|    policy_loss        | 1.2         |\n",
      "|    reward             | 0.034209743 |\n",
      "|    std                | 1.06        |\n",
      "|    value_loss         | 0.0532      |\n",
      "---------------------------------------\n",
      "--------------------------------------\n",
      "| time/                 |            |\n",
      "|    fps                | 406        |\n",
      "|    iterations         | 600        |\n",
      "|    time_elapsed       | 7          |\n",
      "|    total_timesteps    | 3000       |\n",
      "| train/                |            |\n",
      "|    entropy_loss       | -5.95      |\n",
      "|    explained_variance | -0.303     |\n",
      "|    learning_rate      | 0.0007     |\n",
      "|    n_updates          | 599        |\n",
      "|    policy_loss        | 2.03       |\n",
      "|    reward             | 0.13285999 |\n",
      "|    std                | 1.07       |\n",
      "|    value_loss         | 0.167      |\n",
      "--------------------------------------\n"
     ]
    },
    {
     "ename": "KeyboardInterrupt",
     "evalue": "",
     "output_type": "error",
     "traceback": [
      "\u001b[0;31m---------------------------------------------------------------------------\u001b[0m",
      "\u001b[0;31mKeyboardInterrupt\u001b[0m                         Traceback (most recent call last)",
      "Cell \u001b[0;32mIn [25], line 1\u001b[0m\n\u001b[0;32m----> 1\u001b[0m trained_a2c \u001b[38;5;241m=\u001b[39m \u001b[43magent\u001b[49m\u001b[38;5;241;43m.\u001b[39;49m\u001b[43mtrain_model\u001b[49m\u001b[43m(\u001b[49m\u001b[43mmodel\u001b[49m\u001b[38;5;241;43m=\u001b[39;49m\u001b[43mmodel_a2c\u001b[49m\u001b[43m,\u001b[49m\u001b[43m \u001b[49m\n\u001b[1;32m      2\u001b[0m \u001b[43m                             \u001b[49m\u001b[43mtb_log_name\u001b[49m\u001b[38;5;241;43m=\u001b[39;49m\u001b[38;5;124;43m'\u001b[39;49m\u001b[38;5;124;43ma2c\u001b[39;49m\u001b[38;5;124;43m'\u001b[39;49m\u001b[43m,\u001b[49m\n\u001b[1;32m      3\u001b[0m \u001b[43m                             \u001b[49m\u001b[43mtotal_timesteps\u001b[49m\u001b[38;5;241;43m=\u001b[39;49m\u001b[38;5;241;43m50000\u001b[39;49m\u001b[43m)\u001b[49m \u001b[38;5;28;01mif\u001b[39;00m if_using_a2c \u001b[38;5;28;01melse\u001b[39;00m \u001b[38;5;28;01mNone\u001b[39;00m\n\u001b[1;32m      4\u001b[0m \u001b[38;5;28;01mif\u001b[39;00m if_using_a2c:\n\u001b[1;32m      5\u001b[0m   trained_model \u001b[38;5;241m=\u001b[39m trained_a2c\n",
      "File \u001b[0;32m~/Documents/FinRL/finrl/agents/stablebaselines3/models.py:103\u001b[0m, in \u001b[0;36mDRLAgent.train_model\u001b[0;34m(self, model, tb_log_name, total_timesteps)\u001b[0m\n\u001b[1;32m    102\u001b[0m \u001b[38;5;28;01mdef\u001b[39;00m \u001b[38;5;21mtrain_model\u001b[39m(\u001b[38;5;28mself\u001b[39m, model, tb_log_name, total_timesteps\u001b[38;5;241m=\u001b[39m\u001b[38;5;241m5000\u001b[39m):\n\u001b[0;32m--> 103\u001b[0m     model \u001b[38;5;241m=\u001b[39m \u001b[43mmodel\u001b[49m\u001b[38;5;241;43m.\u001b[39;49m\u001b[43mlearn\u001b[49m\u001b[43m(\u001b[49m\n\u001b[1;32m    104\u001b[0m \u001b[43m        \u001b[49m\u001b[43mtotal_timesteps\u001b[49m\u001b[38;5;241;43m=\u001b[39;49m\u001b[43mtotal_timesteps\u001b[49m\u001b[43m,\u001b[49m\n\u001b[1;32m    105\u001b[0m \u001b[43m        \u001b[49m\u001b[43mtb_log_name\u001b[49m\u001b[38;5;241;43m=\u001b[39;49m\u001b[43mtb_log_name\u001b[49m\u001b[43m,\u001b[49m\n\u001b[1;32m    106\u001b[0m \u001b[43m        \u001b[49m\u001b[43mcallback\u001b[49m\u001b[38;5;241;43m=\u001b[39;49m\u001b[43mTensorboardCallback\u001b[49m\u001b[43m(\u001b[49m\u001b[43m)\u001b[49m\u001b[43m,\u001b[49m\n\u001b[1;32m    107\u001b[0m \u001b[43m    \u001b[49m\u001b[43m)\u001b[49m\n\u001b[1;32m    108\u001b[0m     \u001b[38;5;28;01mreturn\u001b[39;00m model\n",
      "File \u001b[0;32m~/anaconda3/envs/finRL/lib/python3.8/site-packages/stable_baselines3/a2c/a2c.py:197\u001b[0m, in \u001b[0;36mA2C.learn\u001b[0;34m(self, total_timesteps, callback, log_interval, eval_env, eval_freq, n_eval_episodes, tb_log_name, eval_log_path, reset_num_timesteps)\u001b[0m\n\u001b[1;32m    184\u001b[0m \u001b[38;5;28;01mdef\u001b[39;00m \u001b[38;5;21mlearn\u001b[39m(\n\u001b[1;32m    185\u001b[0m     \u001b[38;5;28mself\u001b[39m,\n\u001b[1;32m    186\u001b[0m     total_timesteps: \u001b[38;5;28mint\u001b[39m,\n\u001b[0;32m   (...)\u001b[0m\n\u001b[1;32m    194\u001b[0m     reset_num_timesteps: \u001b[38;5;28mbool\u001b[39m \u001b[38;5;241m=\u001b[39m \u001b[38;5;28;01mTrue\u001b[39;00m,\n\u001b[1;32m    195\u001b[0m ) \u001b[38;5;241m-\u001b[39m\u001b[38;5;241m>\u001b[39m \u001b[38;5;124m\"\u001b[39m\u001b[38;5;124mA2C\u001b[39m\u001b[38;5;124m\"\u001b[39m:\n\u001b[0;32m--> 197\u001b[0m     \u001b[38;5;28;01mreturn\u001b[39;00m \u001b[38;5;28;43msuper\u001b[39;49m\u001b[43m(\u001b[49m\u001b[43m)\u001b[49m\u001b[38;5;241;43m.\u001b[39;49m\u001b[43mlearn\u001b[49m\u001b[43m(\u001b[49m\n\u001b[1;32m    198\u001b[0m \u001b[43m        \u001b[49m\u001b[43mtotal_timesteps\u001b[49m\u001b[38;5;241;43m=\u001b[39;49m\u001b[43mtotal_timesteps\u001b[49m\u001b[43m,\u001b[49m\n\u001b[1;32m    199\u001b[0m \u001b[43m        \u001b[49m\u001b[43mcallback\u001b[49m\u001b[38;5;241;43m=\u001b[39;49m\u001b[43mcallback\u001b[49m\u001b[43m,\u001b[49m\n\u001b[1;32m    200\u001b[0m \u001b[43m        \u001b[49m\u001b[43mlog_interval\u001b[49m\u001b[38;5;241;43m=\u001b[39;49m\u001b[43mlog_interval\u001b[49m\u001b[43m,\u001b[49m\n\u001b[1;32m    201\u001b[0m \u001b[43m        \u001b[49m\u001b[43meval_env\u001b[49m\u001b[38;5;241;43m=\u001b[39;49m\u001b[43meval_env\u001b[49m\u001b[43m,\u001b[49m\n\u001b[1;32m    202\u001b[0m \u001b[43m        \u001b[49m\u001b[43meval_freq\u001b[49m\u001b[38;5;241;43m=\u001b[39;49m\u001b[43meval_freq\u001b[49m\u001b[43m,\u001b[49m\n\u001b[1;32m    203\u001b[0m \u001b[43m        \u001b[49m\u001b[43mn_eval_episodes\u001b[49m\u001b[38;5;241;43m=\u001b[39;49m\u001b[43mn_eval_episodes\u001b[49m\u001b[43m,\u001b[49m\n\u001b[1;32m    204\u001b[0m \u001b[43m        \u001b[49m\u001b[43mtb_log_name\u001b[49m\u001b[38;5;241;43m=\u001b[39;49m\u001b[43mtb_log_name\u001b[49m\u001b[43m,\u001b[49m\n\u001b[1;32m    205\u001b[0m \u001b[43m        \u001b[49m\u001b[43meval_log_path\u001b[49m\u001b[38;5;241;43m=\u001b[39;49m\u001b[43meval_log_path\u001b[49m\u001b[43m,\u001b[49m\n\u001b[1;32m    206\u001b[0m \u001b[43m        \u001b[49m\u001b[43mreset_num_timesteps\u001b[49m\u001b[38;5;241;43m=\u001b[39;49m\u001b[43mreset_num_timesteps\u001b[49m\u001b[43m,\u001b[49m\n\u001b[1;32m    207\u001b[0m \u001b[43m    \u001b[49m\u001b[43m)\u001b[49m\n",
      "File \u001b[0;32m~/anaconda3/envs/finRL/lib/python3.8/site-packages/stable_baselines3/common/on_policy_algorithm.py:267\u001b[0m, in \u001b[0;36mOnPolicyAlgorithm.learn\u001b[0;34m(self, total_timesteps, callback, log_interval, eval_env, eval_freq, n_eval_episodes, tb_log_name, eval_log_path, reset_num_timesteps)\u001b[0m\n\u001b[1;32m    264\u001b[0m         \u001b[38;5;28mself\u001b[39m\u001b[38;5;241m.\u001b[39mlogger\u001b[38;5;241m.\u001b[39mrecord(\u001b[38;5;124m\"\u001b[39m\u001b[38;5;124mtime/total_timesteps\u001b[39m\u001b[38;5;124m\"\u001b[39m, \u001b[38;5;28mself\u001b[39m\u001b[38;5;241m.\u001b[39mnum_timesteps, exclude\u001b[38;5;241m=\u001b[39m\u001b[38;5;124m\"\u001b[39m\u001b[38;5;124mtensorboard\u001b[39m\u001b[38;5;124m\"\u001b[39m)\n\u001b[1;32m    265\u001b[0m         \u001b[38;5;28mself\u001b[39m\u001b[38;5;241m.\u001b[39mlogger\u001b[38;5;241m.\u001b[39mdump(step\u001b[38;5;241m=\u001b[39m\u001b[38;5;28mself\u001b[39m\u001b[38;5;241m.\u001b[39mnum_timesteps)\n\u001b[0;32m--> 267\u001b[0m     \u001b[38;5;28;43mself\u001b[39;49m\u001b[38;5;241;43m.\u001b[39;49m\u001b[43mtrain\u001b[49m\u001b[43m(\u001b[49m\u001b[43m)\u001b[49m\n\u001b[1;32m    269\u001b[0m callback\u001b[38;5;241m.\u001b[39mon_training_end()\n\u001b[1;32m    271\u001b[0m \u001b[38;5;28;01mreturn\u001b[39;00m \u001b[38;5;28mself\u001b[39m\n",
      "File \u001b[0;32m~/anaconda3/envs/finRL/lib/python3.8/site-packages/stable_baselines3/a2c/a2c.py:135\u001b[0m, in \u001b[0;36mA2C.train\u001b[0;34m(self)\u001b[0m\n\u001b[1;32m    132\u001b[0m \u001b[38;5;28mself\u001b[39m\u001b[38;5;241m.\u001b[39m_update_learning_rate(\u001b[38;5;28mself\u001b[39m\u001b[38;5;241m.\u001b[39mpolicy\u001b[38;5;241m.\u001b[39moptimizer)\n\u001b[1;32m    134\u001b[0m \u001b[38;5;66;03m# This will only loop once (get all data in one go)\u001b[39;00m\n\u001b[0;32m--> 135\u001b[0m \u001b[38;5;28;01mfor\u001b[39;00m rollout_data \u001b[38;5;129;01min\u001b[39;00m \u001b[38;5;28mself\u001b[39m\u001b[38;5;241m.\u001b[39mrollout_buffer\u001b[38;5;241m.\u001b[39mget(batch_size\u001b[38;5;241m=\u001b[39m\u001b[38;5;28;01mNone\u001b[39;00m):\n\u001b[1;32m    137\u001b[0m     actions \u001b[38;5;241m=\u001b[39m rollout_data\u001b[38;5;241m.\u001b[39mactions\n\u001b[1;32m    138\u001b[0m     \u001b[38;5;28;01mif\u001b[39;00m \u001b[38;5;28misinstance\u001b[39m(\u001b[38;5;28mself\u001b[39m\u001b[38;5;241m.\u001b[39maction_space, spaces\u001b[38;5;241m.\u001b[39mDiscrete):\n\u001b[1;32m    139\u001b[0m         \u001b[38;5;66;03m# Convert discrete action from float to long\u001b[39;00m\n",
      "File \u001b[0;32m~/anaconda3/envs/finRL/lib/python3.8/site-packages/stable_baselines3/common/buffers.py:471\u001b[0m, in \u001b[0;36mRolloutBuffer.get\u001b[0;34m(self, batch_size)\u001b[0m\n\u001b[1;32m    469\u001b[0m start_idx \u001b[38;5;241m=\u001b[39m \u001b[38;5;241m0\u001b[39m\n\u001b[1;32m    470\u001b[0m \u001b[38;5;28;01mwhile\u001b[39;00m start_idx \u001b[38;5;241m<\u001b[39m \u001b[38;5;28mself\u001b[39m\u001b[38;5;241m.\u001b[39mbuffer_size \u001b[38;5;241m*\u001b[39m \u001b[38;5;28mself\u001b[39m\u001b[38;5;241m.\u001b[39mn_envs:\n\u001b[0;32m--> 471\u001b[0m     \u001b[38;5;28;01myield\u001b[39;00m \u001b[38;5;28;43mself\u001b[39;49m\u001b[38;5;241;43m.\u001b[39;49m\u001b[43m_get_samples\u001b[49m\u001b[43m(\u001b[49m\u001b[43mindices\u001b[49m\u001b[43m[\u001b[49m\u001b[43mstart_idx\u001b[49m\u001b[43m \u001b[49m\u001b[43m:\u001b[49m\u001b[43m \u001b[49m\u001b[43mstart_idx\u001b[49m\u001b[43m \u001b[49m\u001b[38;5;241;43m+\u001b[39;49m\u001b[43m \u001b[49m\u001b[43mbatch_size\u001b[49m\u001b[43m]\u001b[49m\u001b[43m)\u001b[49m\n\u001b[1;32m    472\u001b[0m     start_idx \u001b[38;5;241m+\u001b[39m\u001b[38;5;241m=\u001b[39m batch_size\n",
      "File \u001b[0;32m~/anaconda3/envs/finRL/lib/python3.8/site-packages/stable_baselines3/common/buffers.py:483\u001b[0m, in \u001b[0;36mRolloutBuffer._get_samples\u001b[0;34m(self, batch_inds, env)\u001b[0m\n\u001b[1;32m    474\u001b[0m \u001b[38;5;28;01mdef\u001b[39;00m \u001b[38;5;21m_get_samples\u001b[39m(\u001b[38;5;28mself\u001b[39m, batch_inds: np\u001b[38;5;241m.\u001b[39mndarray, env: Optional[VecNormalize] \u001b[38;5;241m=\u001b[39m \u001b[38;5;28;01mNone\u001b[39;00m) \u001b[38;5;241m-\u001b[39m\u001b[38;5;241m>\u001b[39m RolloutBufferSamples:\n\u001b[1;32m    475\u001b[0m     data \u001b[38;5;241m=\u001b[39m (\n\u001b[1;32m    476\u001b[0m         \u001b[38;5;28mself\u001b[39m\u001b[38;5;241m.\u001b[39mobservations[batch_inds],\n\u001b[1;32m    477\u001b[0m         \u001b[38;5;28mself\u001b[39m\u001b[38;5;241m.\u001b[39mactions[batch_inds],\n\u001b[0;32m   (...)\u001b[0m\n\u001b[1;32m    481\u001b[0m         \u001b[38;5;28mself\u001b[39m\u001b[38;5;241m.\u001b[39mreturns[batch_inds]\u001b[38;5;241m.\u001b[39mflatten(),\n\u001b[1;32m    482\u001b[0m     )\n\u001b[0;32m--> 483\u001b[0m     \u001b[38;5;28;01mreturn\u001b[39;00m RolloutBufferSamples(\u001b[38;5;241m*\u001b[39m\u001b[38;5;28;43mtuple\u001b[39;49m\u001b[43m(\u001b[49m\u001b[38;5;28;43mmap\u001b[39;49m\u001b[43m(\u001b[49m\u001b[38;5;28;43mself\u001b[39;49m\u001b[38;5;241;43m.\u001b[39;49m\u001b[43mto_torch\u001b[49m\u001b[43m,\u001b[49m\u001b[43m \u001b[49m\u001b[43mdata\u001b[49m\u001b[43m)\u001b[49m\u001b[43m)\u001b[49m)\n",
      "File \u001b[0;32m~/anaconda3/envs/finRL/lib/python3.8/site-packages/stable_baselines3/common/buffers.py:134\u001b[0m, in \u001b[0;36mBaseBuffer.to_torch\u001b[0;34m(self, array, copy)\u001b[0m\n\u001b[1;32m    124\u001b[0m \u001b[38;5;124;03m\"\"\"\u001b[39;00m\n\u001b[1;32m    125\u001b[0m \u001b[38;5;124;03mConvert a numpy array to a PyTorch tensor.\u001b[39;00m\n\u001b[1;32m    126\u001b[0m \u001b[38;5;124;03mNote: it copies the data by default\u001b[39;00m\n\u001b[0;32m   (...)\u001b[0m\n\u001b[1;32m    131\u001b[0m \u001b[38;5;124;03m:return:\u001b[39;00m\n\u001b[1;32m    132\u001b[0m \u001b[38;5;124;03m\"\"\"\u001b[39;00m\n\u001b[1;32m    133\u001b[0m \u001b[38;5;28;01mif\u001b[39;00m copy:\n\u001b[0;32m--> 134\u001b[0m     \u001b[38;5;28;01mreturn\u001b[39;00m \u001b[43mth\u001b[49m\u001b[38;5;241;43m.\u001b[39;49m\u001b[43mtensor\u001b[49m\u001b[43m(\u001b[49m\u001b[43marray\u001b[49m\u001b[43m)\u001b[49m\u001b[38;5;241;43m.\u001b[39;49m\u001b[43mto\u001b[49m\u001b[43m(\u001b[49m\u001b[38;5;28;43mself\u001b[39;49m\u001b[38;5;241;43m.\u001b[39;49m\u001b[43mdevice\u001b[49m\u001b[43m)\u001b[49m\n\u001b[1;32m    135\u001b[0m \u001b[38;5;28;01mreturn\u001b[39;00m th\u001b[38;5;241m.\u001b[39mas_tensor(array)\u001b[38;5;241m.\u001b[39mto(\u001b[38;5;28mself\u001b[39m\u001b[38;5;241m.\u001b[39mdevice)\n",
      "\u001b[0;31mKeyboardInterrupt\u001b[0m: "
     ]
    }
   ],
   "source": [
    "trained_a2c = agent.train_model(model=model_a2c, \n",
    "                             tb_log_name='a2c',\n",
    "                             total_timesteps=50000) if if_using_a2c else None\n",
    "if if_using_a2c:\n",
    "  trained_model = trained_a2c\n"
   ]
  },
  {
   "cell_type": "markdown",
   "metadata": {
    "id": "MRiOtrywfAo1"
   },
   "source": [
    "### Agent 2: DDPG"
   ]
  },
  {
   "cell_type": "code",
   "execution_count": 39,
   "metadata": {
    "colab": {
     "base_uri": "https://localhost:8080/"
    },
    "id": "M2YadjfnLwgt",
    "outputId": "211f6ae4-c91e-41df-8906-df246e090f75"
   },
   "outputs": [
    {
     "name": "stdout",
     "output_type": "stream",
     "text": [
      "{'batch_size': 128, 'buffer_size': 50000, 'learning_rate': 0.001}\n",
      "Using cuda device\n",
      "Logging to results/ddpg\n"
     ]
    }
   ],
   "source": [
    "agent = DRLAgent(env = env_train)\n",
    "model_ddpg = agent.get_model(\"ddpg\")\n",
    "\n",
    "if if_using_ddpg:\n",
    "\n",
    "  # set up logger\n",
    "  tmp_path = RESULTS_DIR + '/ddpg'\n",
    "  new_logger_ddpg = configure(tmp_path, [\"stdout\", \"csv\", \"tensorboard\"])\n",
    "  # Set new logger\n",
    "  model_ddpg.set_logger(new_logger_ddpg)"
   ]
  },
  {
   "cell_type": "code",
   "execution_count": 40,
   "metadata": {
    "id": "tCDa78rqfO_a"
   },
   "outputs": [
    {
     "name": "stdout",
     "output_type": "stream",
     "text": [
      "---------------------------------\n",
      "| time/              |          |\n",
      "|    episodes        | 4        |\n",
      "|    fps             | 487      |\n",
      "|    time_elapsed    | 12       |\n",
      "|    total_timesteps | 6040     |\n",
      "| train/             |          |\n",
      "|    actor_loss      | -855     |\n",
      "|    critic_loss     | 625      |\n",
      "|    learning_rate   | 0.001    |\n",
      "|    n_updates       | 4530     |\n",
      "|    reward          | 0.0      |\n",
      "---------------------------------\n",
      "day: 1509, episode: 40\n",
      "begin_total_asset: 100000.00\n",
      "end_total_asset: 100000.00\n",
      "total_reward: 0.00\n",
      "total_cost: 0.00\n",
      "total_trades: 0\n",
      "=================================\n",
      "---------------------------------\n",
      "| time/              |          |\n",
      "|    episodes        | 8        |\n",
      "|    fps             | 436      |\n",
      "|    time_elapsed    | 27       |\n",
      "|    total_timesteps | 12080    |\n",
      "| train/             |          |\n",
      "|    actor_loss      | -753     |\n",
      "|    critic_loss     | 598      |\n",
      "|    learning_rate   | 0.001    |\n",
      "|    n_updates       | 10570    |\n",
      "|    reward          | 0.0      |\n",
      "---------------------------------\n",
      "---------------------------------\n",
      "| time/              |          |\n",
      "|    episodes        | 12       |\n",
      "|    fps             | 421      |\n",
      "|    time_elapsed    | 42       |\n",
      "|    total_timesteps | 18120    |\n",
      "| train/             |          |\n",
      "|    actor_loss      | -570     |\n",
      "|    critic_loss     | 232      |\n",
      "|    learning_rate   | 0.001    |\n",
      "|    n_updates       | 16610    |\n",
      "|    reward          | 0.0      |\n",
      "---------------------------------\n",
      "day: 1509, episode: 50\n",
      "begin_total_asset: 100000.00\n",
      "end_total_asset: 100000.00\n",
      "total_reward: 0.00\n",
      "total_cost: 0.00\n",
      "total_trades: 0\n",
      "=================================\n",
      "---------------------------------\n",
      "| time/              |          |\n",
      "|    episodes        | 16       |\n",
      "|    fps             | 415      |\n",
      "|    time_elapsed    | 58       |\n",
      "|    total_timesteps | 24160    |\n",
      "| train/             |          |\n",
      "|    actor_loss      | -416     |\n",
      "|    critic_loss     | 118      |\n",
      "|    learning_rate   | 0.001    |\n",
      "|    n_updates       | 22650    |\n",
      "|    reward          | 0.0      |\n",
      "---------------------------------\n",
      "---------------------------------\n",
      "| time/              |          |\n",
      "|    episodes        | 20       |\n",
      "|    fps             | 411      |\n",
      "|    time_elapsed    | 73       |\n",
      "|    total_timesteps | 30200    |\n",
      "| train/             |          |\n",
      "|    actor_loss      | -307     |\n",
      "|    critic_loss     | 64.1     |\n",
      "|    learning_rate   | 0.001    |\n",
      "|    n_updates       | 28690    |\n",
      "|    reward          | 0.0      |\n",
      "---------------------------------\n",
      "---------------------------------\n",
      "| time/              |          |\n",
      "|    episodes        | 24       |\n",
      "|    fps             | 408      |\n",
      "|    time_elapsed    | 88       |\n",
      "|    total_timesteps | 36240    |\n",
      "| train/             |          |\n",
      "|    actor_loss      | -225     |\n",
      "|    critic_loss     | 26.1     |\n",
      "|    learning_rate   | 0.001    |\n",
      "|    n_updates       | 34730    |\n",
      "|    reward          | 0.0      |\n",
      "---------------------------------\n",
      "day: 1509, episode: 60\n",
      "begin_total_asset: 100000.00\n",
      "end_total_asset: 100000.00\n",
      "total_reward: 0.00\n",
      "total_cost: 0.00\n",
      "total_trades: 0\n",
      "=================================\n",
      "---------------------------------\n",
      "| time/              |          |\n",
      "|    episodes        | 28       |\n",
      "|    fps             | 405      |\n",
      "|    time_elapsed    | 104      |\n",
      "|    total_timesteps | 42280    |\n",
      "| train/             |          |\n",
      "|    actor_loss      | -164     |\n",
      "|    critic_loss     | 15.5     |\n",
      "|    learning_rate   | 0.001    |\n",
      "|    n_updates       | 40770    |\n",
      "|    reward          | 0.0      |\n",
      "---------------------------------\n",
      "---------------------------------\n",
      "| time/              |          |\n",
      "|    episodes        | 32       |\n",
      "|    fps             | 403      |\n",
      "|    time_elapsed    | 119      |\n",
      "|    total_timesteps | 48320    |\n",
      "| train/             |          |\n",
      "|    actor_loss      | -120     |\n",
      "|    critic_loss     | 7.38     |\n",
      "|    learning_rate   | 0.001    |\n",
      "|    n_updates       | 46810    |\n",
      "|    reward          | 0.0      |\n",
      "---------------------------------\n"
     ]
    }
   ],
   "source": [
    "trained_ddpg = agent.train_model(model=model_ddpg, \n",
    "                             tb_log_name='ddpg',\n",
    "                             total_timesteps=50000) if if_using_ddpg else None\n",
    "if if_using_ddpg:\n",
    "  trained_model = trained_ddpg\n"
   ]
  },
  {
   "cell_type": "markdown",
   "metadata": {
    "id": "_gDkU-j-fCmZ"
   },
   "source": [
    "### Agent 3: PPO"
   ]
  },
  {
   "cell_type": "code",
   "execution_count": 41,
   "metadata": {
    "colab": {
     "base_uri": "https://localhost:8080/"
    },
    "id": "y5D5PFUhMzSV",
    "outputId": "3405d353-0a08-4855-ca59-98098968dd11"
   },
   "outputs": [
    {
     "name": "stdout",
     "output_type": "stream",
     "text": [
      "{'n_steps': 2048, 'ent_coef': 0.01, 'learning_rate': 0.00025, 'batch_size': 128}\n",
      "Using cuda device\n",
      "Logging to results/ppo\n"
     ]
    }
   ],
   "source": [
    "agent = DRLAgent(env = env_train)\n",
    "PPO_PARAMS = {\n",
    "    \"n_steps\": 2048,\n",
    "    \"ent_coef\": 0.01,\n",
    "    \"learning_rate\": 0.00025,\n",
    "    \"batch_size\": 128,\n",
    "}\n",
    "model_ppo = agent.get_model(\"ppo\",model_kwargs = PPO_PARAMS)\n",
    "\n",
    "if if_using_ppo:\n",
    "  # set up logger\n",
    "  tmp_path = RESULTS_DIR + '/ppo'\n",
    "  new_logger_ppo = configure(tmp_path, [\"stdout\", \"csv\", \"tensorboard\"])\n",
    "  # Set new logger\n",
    "  model_ppo.set_logger(new_logger_ppo)"
   ]
  },
  {
   "cell_type": "code",
   "execution_count": 42,
   "metadata": {
    "id": "Gt8eIQKYM4G3"
   },
   "outputs": [
    {
     "name": "stdout",
     "output_type": "stream",
     "text": [
      "------------------------------------\n",
      "| time/              |             |\n",
      "|    fps             | 1087        |\n",
      "|    iterations      | 1           |\n",
      "|    time_elapsed    | 1           |\n",
      "|    total_timesteps | 2048        |\n",
      "| train/             |             |\n",
      "|    reward          | -0.29509366 |\n",
      "------------------------------------\n",
      "------------------------------------------\n",
      "| time/                   |              |\n",
      "|    fps                  | 1012         |\n",
      "|    iterations           | 2            |\n",
      "|    time_elapsed         | 4            |\n",
      "|    total_timesteps      | 4096         |\n",
      "| train/                  |              |\n",
      "|    approx_kl            | 0.0058522853 |\n",
      "|    clip_fraction        | 0.0372       |\n",
      "|    clip_range           | 0.2          |\n",
      "|    entropy_loss         | -5.67        |\n",
      "|    explained_variance   | 0.392        |\n",
      "|    learning_rate        | 0.00025      |\n",
      "|    loss                 | -0.0371      |\n",
      "|    n_updates            | 10           |\n",
      "|    policy_gradient_loss | -0.00202     |\n",
      "|    reward               | -0.37472296  |\n",
      "|    std                  | 0.999        |\n",
      "|    value_loss           | 0.0301       |\n",
      "------------------------------------------\n",
      "------------------------------------------\n",
      "| time/                   |              |\n",
      "|    fps                  | 995          |\n",
      "|    iterations           | 3            |\n",
      "|    time_elapsed         | 6            |\n",
      "|    total_timesteps      | 6144         |\n",
      "| train/                  |              |\n",
      "|    approx_kl            | 0.007950123  |\n",
      "|    clip_fraction        | 0.0623       |\n",
      "|    clip_range           | 0.2          |\n",
      "|    entropy_loss         | -5.67        |\n",
      "|    explained_variance   | 0.0114       |\n",
      "|    learning_rate        | 0.00025      |\n",
      "|    loss                 | -0.0314      |\n",
      "|    n_updates            | 20           |\n",
      "|    policy_gradient_loss | -0.0101      |\n",
      "|    reward               | -0.030530011 |\n",
      "|    std                  | 0.996        |\n",
      "|    value_loss           | 0.117        |\n",
      "------------------------------------------\n",
      "-----------------------------------------\n",
      "| time/                   |             |\n",
      "|    fps                  | 984         |\n",
      "|    iterations           | 4           |\n",
      "|    time_elapsed         | 8           |\n",
      "|    total_timesteps      | 8192        |\n",
      "| train/                  |             |\n",
      "|    approx_kl            | 0.007834088 |\n",
      "|    clip_fraction        | 0.066       |\n",
      "|    clip_range           | 0.2         |\n",
      "|    entropy_loss         | -5.67       |\n",
      "|    explained_variance   | 0.138       |\n",
      "|    learning_rate        | 0.00025     |\n",
      "|    loss                 | 0.0148      |\n",
      "|    n_updates            | 30          |\n",
      "|    policy_gradient_loss | -0.00788    |\n",
      "|    reward               | 0.1406823   |\n",
      "|    std                  | 0.999       |\n",
      "|    value_loss           | 0.189       |\n",
      "-----------------------------------------\n",
      "-----------------------------------------\n",
      "| time/                   |             |\n",
      "|    fps                  | 977         |\n",
      "|    iterations           | 5           |\n",
      "|    time_elapsed         | 10          |\n",
      "|    total_timesteps      | 10240       |\n",
      "| train/                  |             |\n",
      "|    approx_kl            | 0.005637998 |\n",
      "|    clip_fraction        | 0.0356      |\n",
      "|    clip_range           | 0.2         |\n",
      "|    entropy_loss         | -5.68       |\n",
      "|    explained_variance   | -0.115      |\n",
      "|    learning_rate        | 0.00025     |\n",
      "|    loss                 | 0.025       |\n",
      "|    n_updates            | 40          |\n",
      "|    policy_gradient_loss | -0.00291    |\n",
      "|    reward               | 0.057157107 |\n",
      "|    std                  | 1           |\n",
      "|    value_loss           | 0.188       |\n",
      "-----------------------------------------\n",
      "------------------------------------------\n",
      "| time/                   |              |\n",
      "|    fps                  | 976          |\n",
      "|    iterations           | 6            |\n",
      "|    time_elapsed         | 12           |\n",
      "|    total_timesteps      | 12288        |\n",
      "| train/                  |              |\n",
      "|    approx_kl            | 0.0064655184 |\n",
      "|    clip_fraction        | 0.0581       |\n",
      "|    clip_range           | 0.2          |\n",
      "|    entropy_loss         | -5.69        |\n",
      "|    explained_variance   | 0.138        |\n",
      "|    learning_rate        | 0.00025      |\n",
      "|    loss                 | 0.0704       |\n",
      "|    n_updates            | 50           |\n",
      "|    policy_gradient_loss | -0.00757     |\n",
      "|    reward               | 0.23784786   |\n",
      "|    std                  | 1.01         |\n",
      "|    value_loss           | 0.274        |\n",
      "------------------------------------------\n",
      "-----------------------------------------\n",
      "| time/                   |             |\n",
      "|    fps                  | 971         |\n",
      "|    iterations           | 7           |\n",
      "|    time_elapsed         | 14          |\n",
      "|    total_timesteps      | 14336       |\n",
      "| train/                  |             |\n",
      "|    approx_kl            | 0.007239305 |\n",
      "|    clip_fraction        | 0.066       |\n",
      "|    clip_range           | 0.2         |\n",
      "|    entropy_loss         | -5.71       |\n",
      "|    explained_variance   | 0.206       |\n",
      "|    learning_rate        | 0.00025     |\n",
      "|    loss                 | 0.0598      |\n",
      "|    n_updates            | 60          |\n",
      "|    policy_gradient_loss | -0.00736    |\n",
      "|    reward               | 0.06657324  |\n",
      "|    std                  | 1.01        |\n",
      "|    value_loss           | 0.227       |\n",
      "-----------------------------------------\n",
      "day: 1509, episode: 80\n",
      "begin_total_asset: 100000.00\n",
      "end_total_asset: 191829.97\n",
      "total_reward: 91829.97\n",
      "total_cost: 1399.68\n",
      "total_trades: 5418\n",
      "Sharpe: 0.575\n",
      "=================================\n",
      "------------------------------------------\n",
      "| time/                   |              |\n",
      "|    fps                  | 968          |\n",
      "|    iterations           | 8            |\n",
      "|    time_elapsed         | 16           |\n",
      "|    total_timesteps      | 16384        |\n",
      "| train/                  |              |\n",
      "|    approx_kl            | 0.0059533976 |\n",
      "|    clip_fraction        | 0.0447       |\n",
      "|    clip_range           | 0.2          |\n",
      "|    entropy_loss         | -5.72        |\n",
      "|    explained_variance   | 0.196        |\n",
      "|    learning_rate        | 0.00025      |\n",
      "|    loss                 | 0.0595       |\n",
      "|    n_updates            | 70           |\n",
      "|    policy_gradient_loss | -0.00527     |\n",
      "|    reward               | -0.007882464 |\n",
      "|    std                  | 1.01         |\n",
      "|    value_loss           | 0.266        |\n",
      "------------------------------------------\n",
      "------------------------------------------\n",
      "| time/                   |              |\n",
      "|    fps                  | 966          |\n",
      "|    iterations           | 9            |\n",
      "|    time_elapsed         | 19           |\n",
      "|    total_timesteps      | 18432        |\n",
      "| train/                  |              |\n",
      "|    approx_kl            | 0.0048739435 |\n",
      "|    clip_fraction        | 0.0461       |\n",
      "|    clip_range           | 0.2          |\n",
      "|    entropy_loss         | -5.73        |\n",
      "|    explained_variance   | 0.101        |\n",
      "|    learning_rate        | 0.00025      |\n",
      "|    loss                 | 0.128        |\n",
      "|    n_updates            | 80           |\n",
      "|    policy_gradient_loss | -0.00469     |\n",
      "|    reward               | 0.05688151   |\n",
      "|    std                  | 1.01         |\n",
      "|    value_loss           | 0.405        |\n",
      "------------------------------------------\n",
      "------------------------------------------\n",
      "| time/                   |              |\n",
      "|    fps                  | 965          |\n",
      "|    iterations           | 10           |\n",
      "|    time_elapsed         | 21           |\n",
      "|    total_timesteps      | 20480        |\n",
      "| train/                  |              |\n",
      "|    approx_kl            | 0.0063811103 |\n",
      "|    clip_fraction        | 0.0496       |\n",
      "|    clip_range           | 0.2          |\n",
      "|    entropy_loss         | -5.75        |\n",
      "|    explained_variance   | 0.146        |\n",
      "|    learning_rate        | 0.00025      |\n",
      "|    loss                 | 0.0855       |\n",
      "|    n_updates            | 90           |\n",
      "|    policy_gradient_loss | -0.00592     |\n",
      "|    reward               | -0.15249735  |\n",
      "|    std                  | 1.02         |\n",
      "|    value_loss           | 0.309        |\n",
      "------------------------------------------\n"
     ]
    },
    {
     "name": "stdout",
     "output_type": "stream",
     "text": [
      "-----------------------------------------\n",
      "| time/                   |             |\n",
      "|    fps                  | 965         |\n",
      "|    iterations           | 11          |\n",
      "|    time_elapsed         | 23          |\n",
      "|    total_timesteps      | 22528       |\n",
      "| train/                  |             |\n",
      "|    approx_kl            | 0.005091614 |\n",
      "|    clip_fraction        | 0.0386      |\n",
      "|    clip_range           | 0.2         |\n",
      "|    entropy_loss         | -5.77       |\n",
      "|    explained_variance   | 0.0839      |\n",
      "|    learning_rate        | 0.00025     |\n",
      "|    loss                 | 0.0816      |\n",
      "|    n_updates            | 100         |\n",
      "|    policy_gradient_loss | -0.00475    |\n",
      "|    reward               | 0.14687666  |\n",
      "|    std                  | 1.02        |\n",
      "|    value_loss           | 0.341       |\n",
      "-----------------------------------------\n",
      "-----------------------------------------\n",
      "| time/                   |             |\n",
      "|    fps                  | 964         |\n",
      "|    iterations           | 12          |\n",
      "|    time_elapsed         | 25          |\n",
      "|    total_timesteps      | 24576       |\n",
      "| train/                  |             |\n",
      "|    approx_kl            | 0.003019423 |\n",
      "|    clip_fraction        | 0.0333      |\n",
      "|    clip_range           | 0.2         |\n",
      "|    entropy_loss         | -5.77       |\n",
      "|    explained_variance   | 0.155       |\n",
      "|    learning_rate        | 0.00025     |\n",
      "|    loss                 | 0.139       |\n",
      "|    n_updates            | 110         |\n",
      "|    policy_gradient_loss | -0.00329    |\n",
      "|    reward               | 0.19499353  |\n",
      "|    std                  | 1.03        |\n",
      "|    value_loss           | 0.397       |\n",
      "-----------------------------------------\n",
      "------------------------------------------\n",
      "| time/                   |              |\n",
      "|    fps                  | 962          |\n",
      "|    iterations           | 13           |\n",
      "|    time_elapsed         | 27           |\n",
      "|    total_timesteps      | 26624        |\n",
      "| train/                  |              |\n",
      "|    approx_kl            | 0.0042329053 |\n",
      "|    clip_fraction        | 0.0323       |\n",
      "|    clip_range           | 0.2          |\n",
      "|    entropy_loss         | -5.8         |\n",
      "|    explained_variance   | 0.265        |\n",
      "|    learning_rate        | 0.00025      |\n",
      "|    loss                 | 0.0564       |\n",
      "|    n_updates            | 120          |\n",
      "|    policy_gradient_loss | -0.00388     |\n",
      "|    reward               | 0.054239884  |\n",
      "|    std                  | 1.03         |\n",
      "|    value_loss           | 0.242        |\n",
      "------------------------------------------\n",
      "------------------------------------------\n",
      "| time/                   |              |\n",
      "|    fps                  | 961          |\n",
      "|    iterations           | 14           |\n",
      "|    time_elapsed         | 29           |\n",
      "|    total_timesteps      | 28672        |\n",
      "| train/                  |              |\n",
      "|    approx_kl            | 0.0076470203 |\n",
      "|    clip_fraction        | 0.0552       |\n",
      "|    clip_range           | 0.2          |\n",
      "|    entropy_loss         | -5.82        |\n",
      "|    explained_variance   | 0.0865       |\n",
      "|    learning_rate        | 0.00025      |\n",
      "|    loss                 | 0.104        |\n",
      "|    n_updates            | 130          |\n",
      "|    policy_gradient_loss | -0.004       |\n",
      "|    reward               | 0.09770247   |\n",
      "|    std                  | 1.04         |\n",
      "|    value_loss           | 0.334        |\n",
      "------------------------------------------\n",
      "day: 1509, episode: 90\n",
      "begin_total_asset: 100000.00\n",
      "end_total_asset: 187843.92\n",
      "total_reward: 87843.92\n",
      "total_cost: 1239.13\n",
      "total_trades: 5172\n",
      "Sharpe: 0.535\n",
      "=================================\n",
      "------------------------------------------\n",
      "| time/                   |              |\n",
      "|    fps                  | 961          |\n",
      "|    iterations           | 15           |\n",
      "|    time_elapsed         | 31           |\n",
      "|    total_timesteps      | 30720        |\n",
      "| train/                  |              |\n",
      "|    approx_kl            | 0.0063316682 |\n",
      "|    clip_fraction        | 0.0239       |\n",
      "|    clip_range           | 0.2          |\n",
      "|    entropy_loss         | -5.82        |\n",
      "|    explained_variance   | 0.0193       |\n",
      "|    learning_rate        | 0.00025      |\n",
      "|    loss                 | 0.129        |\n",
      "|    n_updates            | 140          |\n",
      "|    policy_gradient_loss | -0.000407    |\n",
      "|    reward               | 0.024675978  |\n",
      "|    std                  | 1.04         |\n",
      "|    value_loss           | 0.344        |\n",
      "------------------------------------------\n",
      "-----------------------------------------\n",
      "| time/                   |             |\n",
      "|    fps                  | 960         |\n",
      "|    iterations           | 16          |\n",
      "|    time_elapsed         | 34          |\n",
      "|    total_timesteps      | 32768       |\n",
      "| train/                  |             |\n",
      "|    approx_kl            | 0.008877474 |\n",
      "|    clip_fraction        | 0.0747      |\n",
      "|    clip_range           | 0.2         |\n",
      "|    entropy_loss         | -5.82       |\n",
      "|    explained_variance   | 0.106       |\n",
      "|    learning_rate        | 0.00025     |\n",
      "|    loss                 | 0.085       |\n",
      "|    n_updates            | 150         |\n",
      "|    policy_gradient_loss | -0.00696    |\n",
      "|    reward               | -0.19625539 |\n",
      "|    std                  | 1.04        |\n",
      "|    value_loss           | 0.287       |\n",
      "-----------------------------------------\n",
      "-----------------------------------------\n",
      "| time/                   |             |\n",
      "|    fps                  | 960         |\n",
      "|    iterations           | 17          |\n",
      "|    time_elapsed         | 36          |\n",
      "|    total_timesteps      | 34816       |\n",
      "| train/                  |             |\n",
      "|    approx_kl            | 0.007485724 |\n",
      "|    clip_fraction        | 0.0492      |\n",
      "|    clip_range           | 0.2         |\n",
      "|    entropy_loss         | -5.84       |\n",
      "|    explained_variance   | 0.0874      |\n",
      "|    learning_rate        | 0.00025     |\n",
      "|    loss                 | 0.0908      |\n",
      "|    n_updates            | 160         |\n",
      "|    policy_gradient_loss | -0.00347    |\n",
      "|    reward               | -0.38748488 |\n",
      "|    std                  | 1.04        |\n",
      "|    value_loss           | 0.354       |\n",
      "-----------------------------------------\n",
      "------------------------------------------\n",
      "| time/                   |              |\n",
      "|    fps                  | 959          |\n",
      "|    iterations           | 18           |\n",
      "|    time_elapsed         | 38           |\n",
      "|    total_timesteps      | 36864        |\n",
      "| train/                  |              |\n",
      "|    approx_kl            | 0.0059421435 |\n",
      "|    clip_fraction        | 0.054        |\n",
      "|    clip_range           | 0.2          |\n",
      "|    entropy_loss         | -5.86        |\n",
      "|    explained_variance   | 0.103        |\n",
      "|    learning_rate        | 0.00025      |\n",
      "|    loss                 | 0.117        |\n",
      "|    n_updates            | 170          |\n",
      "|    policy_gradient_loss | -0.00519     |\n",
      "|    reward               | -0.1094747   |\n",
      "|    std                  | 1.05         |\n",
      "|    value_loss           | 0.333        |\n",
      "------------------------------------------\n",
      "-----------------------------------------\n",
      "| time/                   |             |\n",
      "|    fps                  | 959         |\n",
      "|    iterations           | 19          |\n",
      "|    time_elapsed         | 40          |\n",
      "|    total_timesteps      | 38912       |\n",
      "| train/                  |             |\n",
      "|    approx_kl            | 0.004852636 |\n",
      "|    clip_fraction        | 0.0306      |\n",
      "|    clip_range           | 0.2         |\n",
      "|    entropy_loss         | -5.88       |\n",
      "|    explained_variance   | 0.275       |\n",
      "|    learning_rate        | 0.00025     |\n",
      "|    loss                 | 0.0582      |\n",
      "|    n_updates            | 180         |\n",
      "|    policy_gradient_loss | -0.00165    |\n",
      "|    reward               | -0.22444884 |\n",
      "|    std                  | 1.06        |\n",
      "|    value_loss           | 0.251       |\n",
      "-----------------------------------------\n",
      "------------------------------------------\n",
      "| time/                   |              |\n",
      "|    fps                  | 958          |\n",
      "|    iterations           | 20           |\n",
      "|    time_elapsed         | 42           |\n",
      "|    total_timesteps      | 40960        |\n",
      "| train/                  |              |\n",
      "|    approx_kl            | 0.0072810496 |\n",
      "|    clip_fraction        | 0.0648       |\n",
      "|    clip_range           | 0.2          |\n",
      "|    entropy_loss         | -5.9         |\n",
      "|    explained_variance   | 0.143        |\n",
      "|    learning_rate        | 0.00025      |\n",
      "|    loss                 | 0.0634       |\n",
      "|    n_updates            | 190          |\n",
      "|    policy_gradient_loss | -0.00411     |\n",
      "|    reward               | 0.06501619   |\n",
      "|    std                  | 1.06         |\n",
      "|    value_loss           | 0.312        |\n",
      "------------------------------------------\n"
     ]
    },
    {
     "name": "stdout",
     "output_type": "stream",
     "text": [
      "-----------------------------------------\n",
      "| time/                   |             |\n",
      "|    fps                  | 958         |\n",
      "|    iterations           | 21          |\n",
      "|    time_elapsed         | 44          |\n",
      "|    total_timesteps      | 43008       |\n",
      "| train/                  |             |\n",
      "|    approx_kl            | 0.007419474 |\n",
      "|    clip_fraction        | 0.0618      |\n",
      "|    clip_range           | 0.2         |\n",
      "|    entropy_loss         | -5.91       |\n",
      "|    explained_variance   | 0.052       |\n",
      "|    learning_rate        | 0.00025     |\n",
      "|    loss                 | 0.0812      |\n",
      "|    n_updates            | 200         |\n",
      "|    policy_gradient_loss | -0.00462    |\n",
      "|    reward               | -0.21701106 |\n",
      "|    std                  | 1.06        |\n",
      "|    value_loss           | 0.275       |\n",
      "-----------------------------------------\n",
      "------------------------------------------\n",
      "| time/                   |              |\n",
      "|    fps                  | 958          |\n",
      "|    iterations           | 22           |\n",
      "|    time_elapsed         | 47           |\n",
      "|    total_timesteps      | 45056        |\n",
      "| train/                  |              |\n",
      "|    approx_kl            | 0.006627831  |\n",
      "|    clip_fraction        | 0.0563       |\n",
      "|    clip_range           | 0.2          |\n",
      "|    entropy_loss         | -5.91        |\n",
      "|    explained_variance   | 0.132        |\n",
      "|    learning_rate        | 0.00025      |\n",
      "|    loss                 | 0.0635       |\n",
      "|    n_updates            | 210          |\n",
      "|    policy_gradient_loss | -0.00388     |\n",
      "|    reward               | 0.0063107447 |\n",
      "|    std                  | 1.06         |\n",
      "|    value_loss           | 0.266        |\n",
      "------------------------------------------\n",
      "day: 1509, episode: 100\n",
      "begin_total_asset: 100000.00\n",
      "end_total_asset: 169431.51\n",
      "total_reward: 69431.51\n",
      "total_cost: 918.27\n",
      "total_trades: 4725\n",
      "Sharpe: 0.468\n",
      "=================================\n",
      "-----------------------------------------\n",
      "| time/                   |             |\n",
      "|    fps                  | 957         |\n",
      "|    iterations           | 23          |\n",
      "|    time_elapsed         | 49          |\n",
      "|    total_timesteps      | 47104       |\n",
      "| train/                  |             |\n",
      "|    approx_kl            | 0.005365121 |\n",
      "|    clip_fraction        | 0.0475      |\n",
      "|    clip_range           | 0.2         |\n",
      "|    entropy_loss         | -5.92       |\n",
      "|    explained_variance   | 0.139       |\n",
      "|    learning_rate        | 0.00025     |\n",
      "|    loss                 | 0.0598      |\n",
      "|    n_updates            | 220         |\n",
      "|    policy_gradient_loss | -0.00554    |\n",
      "|    reward               | 0.12540658  |\n",
      "|    std                  | 1.07        |\n",
      "|    value_loss           | 0.287       |\n",
      "-----------------------------------------\n",
      "------------------------------------------\n",
      "| time/                   |              |\n",
      "|    fps                  | 957          |\n",
      "|    iterations           | 24           |\n",
      "|    time_elapsed         | 51           |\n",
      "|    total_timesteps      | 49152        |\n",
      "| train/                  |              |\n",
      "|    approx_kl            | 0.0050417357 |\n",
      "|    clip_fraction        | 0.0434       |\n",
      "|    clip_range           | 0.2          |\n",
      "|    entropy_loss         | -5.94        |\n",
      "|    explained_variance   | 0.264        |\n",
      "|    learning_rate        | 0.00025      |\n",
      "|    loss                 | 0.0348       |\n",
      "|    n_updates            | 230          |\n",
      "|    policy_gradient_loss | -0.00269     |\n",
      "|    reward               | -0.043029737 |\n",
      "|    std                  | 1.07         |\n",
      "|    value_loss           | 0.231        |\n",
      "------------------------------------------\n",
      "-----------------------------------------\n",
      "| time/                   |             |\n",
      "|    fps                  | 956         |\n",
      "|    iterations           | 25          |\n",
      "|    time_elapsed         | 53          |\n",
      "|    total_timesteps      | 51200       |\n",
      "| train/                  |             |\n",
      "|    approx_kl            | 0.006303937 |\n",
      "|    clip_fraction        | 0.0578      |\n",
      "|    clip_range           | 0.2         |\n",
      "|    entropy_loss         | -5.94       |\n",
      "|    explained_variance   | 0.141       |\n",
      "|    learning_rate        | 0.00025     |\n",
      "|    loss                 | 0.0323      |\n",
      "|    n_updates            | 240         |\n",
      "|    policy_gradient_loss | -0.0052     |\n",
      "|    reward               | 0.25686482  |\n",
      "|    std                  | 1.07        |\n",
      "|    value_loss           | 0.226       |\n",
      "-----------------------------------------\n"
     ]
    }
   ],
   "source": [
    "trained_ppo = agent.train_model(model=model_ppo, \n",
    "                             tb_log_name='ppo',\n",
    "                             total_timesteps=50000) if if_using_ppo else None\n",
    "if if_using_ppo:\n",
    "  trained_model = trained_ppo"
   ]
  },
  {
   "cell_type": "markdown",
   "metadata": {
    "id": "3Zpv4S0-fDBv"
   },
   "source": [
    "### Agent 4: TD3"
   ]
  },
  {
   "cell_type": "code",
   "execution_count": 43,
   "metadata": {
    "colab": {
     "base_uri": "https://localhost:8080/"
    },
    "id": "JSAHhV4Xc-bh",
    "outputId": "802fef04-8df5-4df2-f710-e5b08941842f"
   },
   "outputs": [
    {
     "name": "stdout",
     "output_type": "stream",
     "text": [
      "{'batch_size': 100, 'buffer_size': 1000000, 'learning_rate': 0.001}\n",
      "Using cuda device\n",
      "Logging to results/td3\n"
     ]
    }
   ],
   "source": [
    "agent = DRLAgent(env = env_train)\n",
    "TD3_PARAMS = {\"batch_size\": 100, \n",
    "              \"buffer_size\": 1000000, \n",
    "              \"learning_rate\": 0.001}\n",
    "\n",
    "model_td3 = agent.get_model(\"td3\",model_kwargs = TD3_PARAMS)\n",
    "\n",
    "if if_using_td3:\n",
    "  # set up logger\n",
    "  tmp_path = RESULTS_DIR + '/td3'\n",
    "  new_logger_td3 = configure(tmp_path, [\"stdout\", \"csv\", \"tensorboard\"])\n",
    "  # Set new logger\n",
    "  model_td3.set_logger(new_logger_td3)"
   ]
  },
  {
   "cell_type": "code",
   "execution_count": 44,
   "metadata": {
    "id": "OSRxNYAxdKpU"
   },
   "outputs": [
    {
     "name": "stdout",
     "output_type": "stream",
     "text": [
      "-----------------------------------\n",
      "| time/              |            |\n",
      "|    episodes        | 4          |\n",
      "|    fps             | 496        |\n",
      "|    time_elapsed    | 12         |\n",
      "|    total_timesteps | 6040       |\n",
      "| train/             |            |\n",
      "|    actor_loss      | 177        |\n",
      "|    critic_loss     | 450        |\n",
      "|    learning_rate   | 0.001      |\n",
      "|    n_updates       | 4530       |\n",
      "|    reward          | -2.0655153 |\n",
      "-----------------------------------\n",
      "day: 1509, episode: 110\n",
      "begin_total_asset: 100000.00\n",
      "end_total_asset: 681484.03\n",
      "total_reward: 581484.03\n",
      "total_cost: 99.90\n",
      "total_trades: 4527\n",
      "Sharpe: 1.033\n",
      "=================================\n",
      "-----------------------------------\n",
      "| time/              |            |\n",
      "|    episodes        | 8          |\n",
      "|    fps             | 443        |\n",
      "|    time_elapsed    | 27         |\n",
      "|    total_timesteps | 12080      |\n",
      "| train/             |            |\n",
      "|    actor_loss      | 228        |\n",
      "|    critic_loss     | 110        |\n",
      "|    learning_rate   | 0.001      |\n",
      "|    n_updates       | 10570      |\n",
      "|    reward          | -2.0655153 |\n",
      "-----------------------------------\n",
      "-----------------------------------\n",
      "| time/              |            |\n",
      "|    episodes        | 12         |\n",
      "|    fps             | 429        |\n",
      "|    time_elapsed    | 42         |\n",
      "|    total_timesteps | 18120      |\n",
      "| train/             |            |\n",
      "|    actor_loss      | 203        |\n",
      "|    critic_loss     | 87.5       |\n",
      "|    learning_rate   | 0.001      |\n",
      "|    n_updates       | 16610      |\n",
      "|    reward          | -2.0655153 |\n",
      "-----------------------------------\n",
      "day: 1509, episode: 120\n",
      "begin_total_asset: 100000.00\n",
      "end_total_asset: 681484.03\n",
      "total_reward: 581484.03\n",
      "total_cost: 99.90\n",
      "total_trades: 4527\n",
      "Sharpe: 1.033\n",
      "=================================\n",
      "-----------------------------------\n",
      "| time/              |            |\n",
      "|    episodes        | 16         |\n",
      "|    fps             | 423        |\n",
      "|    time_elapsed    | 57         |\n",
      "|    total_timesteps | 24160      |\n",
      "| train/             |            |\n",
      "|    actor_loss      | 179        |\n",
      "|    critic_loss     | 59.1       |\n",
      "|    learning_rate   | 0.001      |\n",
      "|    n_updates       | 22650      |\n",
      "|    reward          | -2.0655153 |\n",
      "-----------------------------------\n",
      "-----------------------------------\n",
      "| time/              |            |\n",
      "|    episodes        | 20         |\n",
      "|    fps             | 421        |\n",
      "|    time_elapsed    | 71         |\n",
      "|    total_timesteps | 30200      |\n",
      "| train/             |            |\n",
      "|    actor_loss      | 158        |\n",
      "|    critic_loss     | 31.3       |\n",
      "|    learning_rate   | 0.001      |\n",
      "|    n_updates       | 28690      |\n",
      "|    reward          | -2.0655153 |\n",
      "-----------------------------------\n"
     ]
    }
   ],
   "source": [
    "trained_td3 = agent.train_model(model=model_td3, \n",
    "                             tb_log_name='td3',\n",
    "                             total_timesteps=30000) if if_using_td3 else None\n",
    "if if_using_td3:\n",
    "  trained_model = trained_td3"
   ]
  },
  {
   "cell_type": "markdown",
   "metadata": {
    "id": "Dr49PotrfG01"
   },
   "source": [
    "### Agent 5: SAC"
   ]
  },
  {
   "cell_type": "code",
   "execution_count": 45,
   "metadata": {
    "colab": {
     "base_uri": "https://localhost:8080/"
    },
    "id": "xwOhVjqRkCdM",
    "outputId": "3c848ff6-587e-43d1-b50d-a7d521a14b4f"
   },
   "outputs": [
    {
     "name": "stdout",
     "output_type": "stream",
     "text": [
      "{'batch_size': 128, 'buffer_size': 100000, 'learning_rate': 0.0001, 'learning_starts': 100, 'ent_coef': 'auto_0.1'}\n",
      "Using cuda device\n",
      "Logging to results/sac\n"
     ]
    }
   ],
   "source": [
    "agent = DRLAgent(env = env_train)\n",
    "SAC_PARAMS = {\n",
    "    \"batch_size\": 128,\n",
    "    \"buffer_size\": 100000,\n",
    "    \"learning_rate\": 0.0001,\n",
    "    \"learning_starts\": 100,\n",
    "    \"ent_coef\": \"auto_0.1\",\n",
    "}\n",
    "\n",
    "model_sac = agent.get_model(\"sac\",model_kwargs = SAC_PARAMS)\n",
    "\n",
    "if if_using_sac:\n",
    "  # set up logger\n",
    "  tmp_path = RESULTS_DIR + '/sac'\n",
    "  new_logger_sac = configure(tmp_path, [\"stdout\", \"csv\", \"tensorboard\"])\n",
    "  # Set new logger\n",
    "  model_sac.set_logger(new_logger_sac)"
   ]
  },
  {
   "cell_type": "code",
   "execution_count": 46,
   "metadata": {
    "colab": {
     "base_uri": "https://localhost:8080/"
    },
    "id": "K8RSdKCckJyH",
    "outputId": "4d65a11b-32b0-4c3f-b0da-e1b59fc6e194"
   },
   "outputs": [
    {
     "name": "stdout",
     "output_type": "stream",
     "text": [
      "-----------------------------------\n",
      "| time/              |            |\n",
      "|    episodes        | 4          |\n",
      "|    fps             | 226        |\n",
      "|    time_elapsed    | 26         |\n",
      "|    total_timesteps | 6040       |\n",
      "| train/             |            |\n",
      "|    actor_loss      | 451        |\n",
      "|    critic_loss     | 95.8       |\n",
      "|    ent_coef        | 0.18       |\n",
      "|    ent_coef_loss   | 141        |\n",
      "|    learning_rate   | 0.0001     |\n",
      "|    n_updates       | 5939       |\n",
      "|    reward          | -1.4687496 |\n",
      "-----------------------------------\n",
      "day: 1509, episode: 130\n",
      "begin_total_asset: 100000.00\n",
      "end_total_asset: 522619.83\n",
      "total_reward: 422619.83\n",
      "total_cost: 99.90\n",
      "total_trades: 4527\n",
      "Sharpe: 1.003\n",
      "=================================\n",
      "-----------------------------------\n",
      "| time/              |            |\n",
      "|    episodes        | 8          |\n",
      "|    fps             | 225        |\n",
      "|    time_elapsed    | 53         |\n",
      "|    total_timesteps | 12080      |\n",
      "| train/             |            |\n",
      "|    actor_loss      | 928        |\n",
      "|    critic_loss     | 27.6       |\n",
      "|    ent_coef        | 0.33       |\n",
      "|    ent_coef_loss   | 91.5       |\n",
      "|    learning_rate   | 0.0001     |\n",
      "|    n_updates       | 11979      |\n",
      "|    reward          | -1.4687496 |\n",
      "-----------------------------------\n",
      "-----------------------------------\n",
      "| time/              |            |\n",
      "|    episodes        | 12         |\n",
      "|    fps             | 223        |\n",
      "|    time_elapsed    | 81         |\n",
      "|    total_timesteps | 18120      |\n",
      "| train/             |            |\n",
      "|    actor_loss      | 1.77e+03   |\n",
      "|    critic_loss     | 61.7       |\n",
      "|    ent_coef        | 0.603      |\n",
      "|    ent_coef_loss   | 41.7       |\n",
      "|    learning_rate   | 0.0001     |\n",
      "|    n_updates       | 18019      |\n",
      "|    reward          | -1.4687496 |\n",
      "-----------------------------------\n",
      "day: 1509, episode: 140\n",
      "begin_total_asset: 100000.00\n",
      "end_total_asset: 522619.83\n",
      "total_reward: 422619.83\n",
      "total_cost: 99.90\n",
      "total_trades: 4527\n",
      "Sharpe: 1.003\n",
      "=================================\n",
      "-----------------------------------\n",
      "| time/              |            |\n",
      "|    episodes        | 16         |\n",
      "|    fps             | 223        |\n",
      "|    time_elapsed    | 108        |\n",
      "|    total_timesteps | 24160      |\n",
      "| train/             |            |\n",
      "|    actor_loss      | 3.28e+03   |\n",
      "|    critic_loss     | 239        |\n",
      "|    ent_coef        | 1.1        |\n",
      "|    ent_coef_loss   | -8.17      |\n",
      "|    learning_rate   | 0.0001     |\n",
      "|    n_updates       | 24059      |\n",
      "|    reward          | -1.4687496 |\n",
      "-----------------------------------\n",
      "-----------------------------------\n",
      "| time/              |            |\n",
      "|    episodes        | 20         |\n",
      "|    fps             | 222        |\n",
      "|    time_elapsed    | 136        |\n",
      "|    total_timesteps | 30200      |\n",
      "| train/             |            |\n",
      "|    actor_loss      | 6.03e+03   |\n",
      "|    critic_loss     | 1.19e+03   |\n",
      "|    ent_coef        | 2.02       |\n",
      "|    ent_coef_loss   | -58.1      |\n",
      "|    learning_rate   | 0.0001     |\n",
      "|    n_updates       | 30099      |\n",
      "|    reward          | -1.4687496 |\n",
      "-----------------------------------\n",
      "-----------------------------------\n",
      "| time/              |            |\n",
      "|    episodes        | 24         |\n",
      "|    fps             | 221        |\n",
      "|    time_elapsed    | 163        |\n",
      "|    total_timesteps | 36240      |\n",
      "| train/             |            |\n",
      "|    actor_loss      | 1.11e+04   |\n",
      "|    critic_loss     | 2.32e+03   |\n",
      "|    ent_coef        | 3.69       |\n",
      "|    ent_coef_loss   | -108       |\n",
      "|    learning_rate   | 0.0001     |\n",
      "|    n_updates       | 36139      |\n",
      "|    reward          | -1.4687496 |\n",
      "-----------------------------------\n",
      "day: 1509, episode: 150\n",
      "begin_total_asset: 100000.00\n",
      "end_total_asset: 522619.83\n",
      "total_reward: 422619.83\n",
      "total_cost: 99.90\n",
      "total_trades: 4527\n",
      "Sharpe: 1.003\n",
      "=================================\n"
     ]
    }
   ],
   "source": [
    "trained_sac = agent.train_model(model=model_sac, \n",
    "                             tb_log_name='sac',\n",
    "                             total_timesteps=40000) if if_using_sac else None\n",
    "if if_using_sac:\n",
    "  trained_model = trained_sac"
   ]
  },
  {
   "cell_type": "markdown",
   "metadata": {
    "id": "f2wZgkQXh1jE"
   },
   "source": [
    "## In-sample Performance\n",
    "\n",
    "Assume that the initial capital is $1,000,000."
   ]
  },
  {
   "cell_type": "markdown",
   "metadata": {
    "id": "bEv5KGC8h1jE"
   },
   "source": [
    "### Set turbulence threshold\n",
    "Set the turbulence threshold to be greater than the maximum of insample turbulence data. If current turbulence index is greater than the threshold, then we assume that the current market is volatile"
   ]
  },
  {
   "cell_type": "code",
   "execution_count": 47,
   "metadata": {
    "id": "efwBi84ch1jE"
   },
   "outputs": [],
   "source": [
    "data_risk_indicator = processed_full[(processed_full.date<TRAIN_END_DATE) & (processed_full.date>=TRAIN_START_DATE)]\n",
    "insample_risk_indicator = data_risk_indicator.drop_duplicates(subset=['date'])"
   ]
  },
  {
   "cell_type": "code",
   "execution_count": 48,
   "metadata": {
    "colab": {
     "base_uri": "https://localhost:8080/"
    },
    "id": "VHZMBpSqh1jG",
    "outputId": "73edde3b-1414-4a0d-f876-6460de2ff8e1"
   },
   "outputs": [
    {
     "data": {
      "text/plain": [
       "count    1510.000000\n",
       "mean       20.742775\n",
       "std         8.341472\n",
       "min        10.320000\n",
       "25%        14.730000\n",
       "50%        17.990000\n",
       "75%        24.265000\n",
       "max        56.650002\n",
       "Name: vix, dtype: float64"
      ]
     },
     "execution_count": 48,
     "metadata": {},
     "output_type": "execute_result"
    }
   ],
   "source": [
    "insample_risk_indicator.vix.describe()"
   ]
  },
  {
   "cell_type": "code",
   "execution_count": 49,
   "metadata": {
    "colab": {
     "base_uri": "https://localhost:8080/"
    },
    "id": "BDkszkMloRWT",
    "outputId": "c5df1f2f-ed52-4107-a3af-a358767ae155"
   },
   "outputs": [
    {
     "data": {
      "text/plain": [
       "49.6674003601074"
      ]
     },
     "execution_count": 49,
     "metadata": {},
     "output_type": "execute_result"
    }
   ],
   "source": [
    "insample_risk_indicator.vix.quantile(0.996)"
   ]
  },
  {
   "cell_type": "code",
   "execution_count": 50,
   "metadata": {
    "colab": {
     "base_uri": "https://localhost:8080/"
    },
    "id": "AL7hs7svnNWT",
    "outputId": "ab5a1015-3f83-41b7-ba65-1487f3188588"
   },
   "outputs": [
    {
     "data": {
      "text/plain": [
       "count    1510.000000\n",
       "mean        3.346843\n",
       "std         8.370429\n",
       "min         0.000000\n",
       "25%         0.506804\n",
       "50%         1.614804\n",
       "75%         3.714998\n",
       "max       224.974405\n",
       "Name: turbulence, dtype: float64"
      ]
     },
     "execution_count": 50,
     "metadata": {},
     "output_type": "execute_result"
    }
   ],
   "source": [
    "insample_risk_indicator.turbulence.describe()"
   ]
  },
  {
   "cell_type": "code",
   "execution_count": 51,
   "metadata": {
    "colab": {
     "base_uri": "https://localhost:8080/"
    },
    "id": "N78hfHckoqJ9",
    "outputId": "2c8a54d6-022f-4716-dc6d-22a450f5b9ab"
   },
   "outputs": [
    {
     "data": {
      "text/plain": [
       "49.478083583121744"
      ]
     },
     "execution_count": 51,
     "metadata": {},
     "output_type": "execute_result"
    }
   ],
   "source": [
    "insample_risk_indicator.turbulence.quantile(0.996)"
   ]
  },
  {
   "cell_type": "markdown",
   "metadata": {
    "id": "U5mmgQF_h1jQ"
   },
   "source": [
    "### Trading (Out-of-sample Performance)\n",
    "\n",
    "We update periodically in order to take full advantage of the data, e.g., retrain quarterly, monthly or weekly. We also tune the parameters along the way, in this notebook we use the in-sample data from 2009-01 to 2020-07 to tune the parameters once, so there is some alpha decay here as the length of trade date extends. \n",
    "\n",
    "Numerous hyperparameters – e.g. the learning rate, the total number of samples to train on – influence the learning process and are usually determined by testing some variations."
   ]
  },
  {
   "cell_type": "code",
   "execution_count": 52,
   "metadata": {
    "id": "cIqoV0GSI52v"
   },
   "outputs": [],
   "source": [
    "e_trade_gym = StockTradingEnv(df = trade, turbulence_threshold = 70,risk_indicator_col='vix', **env_kwargs)\n",
    "# env_trade, obs_trade = e_trade_gym.get_sb_env()"
   ]
  },
  {
   "cell_type": "code",
   "execution_count": 53,
   "metadata": {
    "colab": {
     "base_uri": "https://localhost:8080/",
     "height": 357
    },
    "id": "W_XNgGsBMeVw",
    "outputId": "56d2af8e-7ee7-4248-ce7a-3132625c61b1"
   },
   "outputs": [
    {
     "data": {
      "text/html": [
       "<div>\n",
       "<style scoped>\n",
       "    .dataframe tbody tr th:only-of-type {\n",
       "        vertical-align: middle;\n",
       "    }\n",
       "\n",
       "    .dataframe tbody tr th {\n",
       "        vertical-align: top;\n",
       "    }\n",
       "\n",
       "    .dataframe thead th {\n",
       "        text-align: right;\n",
       "    }\n",
       "</style>\n",
       "<table border=\"1\" class=\"dataframe\">\n",
       "  <thead>\n",
       "    <tr style=\"text-align: right;\">\n",
       "      <th></th>\n",
       "      <th>date</th>\n",
       "      <th>tic</th>\n",
       "      <th>open</th>\n",
       "      <th>high</th>\n",
       "      <th>low</th>\n",
       "      <th>close</th>\n",
       "      <th>volume</th>\n",
       "      <th>day</th>\n",
       "      <th>macd</th>\n",
       "      <th>macds</th>\n",
       "      <th>...</th>\n",
       "      <th>rsi_13</th>\n",
       "      <th>rsi_21</th>\n",
       "      <th>rsi_34</th>\n",
       "      <th>rsi_55</th>\n",
       "      <th>rsi_89</th>\n",
       "      <th>cci_30</th>\n",
       "      <th>dx_30</th>\n",
       "      <th>vix</th>\n",
       "      <th>turbulence</th>\n",
       "      <th>daily_return</th>\n",
       "    </tr>\n",
       "  </thead>\n",
       "  <tbody>\n",
       "    <tr>\n",
       "      <th>0</th>\n",
       "      <td>2016-01-04</td>\n",
       "      <td>CERS</td>\n",
       "      <td>6.190000</td>\n",
       "      <td>6.270</td>\n",
       "      <td>6.030000</td>\n",
       "      <td>6.240000</td>\n",
       "      <td>1182500.0</td>\n",
       "      <td>0.0</td>\n",
       "      <td>0.215214</td>\n",
       "      <td>0.227705</td>\n",
       "      <td>...</td>\n",
       "      <td>56.843943</td>\n",
       "      <td>58.196854</td>\n",
       "      <td>57.636392</td>\n",
       "      <td>56.163192</td>\n",
       "      <td>54.620297</td>\n",
       "      <td>56.267999</td>\n",
       "      <td>10.901308</td>\n",
       "      <td>20.700001</td>\n",
       "      <td>1.01708</td>\n",
       "      <td>-0.224835</td>\n",
       "    </tr>\n",
       "    <tr>\n",
       "      <th>0</th>\n",
       "      <td>2016-01-04</td>\n",
       "      <td>EXAS</td>\n",
       "      <td>8.980000</td>\n",
       "      <td>9.110</td>\n",
       "      <td>8.480000</td>\n",
       "      <td>9.000000</td>\n",
       "      <td>2326400.0</td>\n",
       "      <td>0.0</td>\n",
       "      <td>0.047627</td>\n",
       "      <td>-0.032850</td>\n",
       "      <td>...</td>\n",
       "      <td>47.291835</td>\n",
       "      <td>44.772234</td>\n",
       "      <td>41.132734</td>\n",
       "      <td>39.994055</td>\n",
       "      <td>41.396262</td>\n",
       "      <td>-16.827420</td>\n",
       "      <td>6.640800</td>\n",
       "      <td>20.700001</td>\n",
       "      <td>1.01708</td>\n",
       "      <td>0.442308</td>\n",
       "    </tr>\n",
       "    <tr>\n",
       "      <th>0</th>\n",
       "      <td>2016-01-04</td>\n",
       "      <td>GEN</td>\n",
       "      <td>20.549999</td>\n",
       "      <td>20.850</td>\n",
       "      <td>20.360001</td>\n",
       "      <td>8.577429</td>\n",
       "      <td>5265200.0</td>\n",
       "      <td>0.0</td>\n",
       "      <td>0.120752</td>\n",
       "      <td>0.088442</td>\n",
       "      <td>...</td>\n",
       "      <td>57.715595</td>\n",
       "      <td>56.437223</td>\n",
       "      <td>53.446725</td>\n",
       "      <td>50.447861</td>\n",
       "      <td>48.809856</td>\n",
       "      <td>70.333945</td>\n",
       "      <td>3.360028</td>\n",
       "      <td>20.700001</td>\n",
       "      <td>1.01708</td>\n",
       "      <td>-0.046952</td>\n",
       "    </tr>\n",
       "    <tr>\n",
       "      <th>0</th>\n",
       "      <td>2016-01-04</td>\n",
       "      <td>NVDA</td>\n",
       "      <td>8.072500</td>\n",
       "      <td>8.145</td>\n",
       "      <td>8.010000</td>\n",
       "      <td>7.905804</td>\n",
       "      <td>35807600.0</td>\n",
       "      <td>0.0</td>\n",
       "      <td>0.123278</td>\n",
       "      <td>0.164436</td>\n",
       "      <td>...</td>\n",
       "      <td>48.912074</td>\n",
       "      <td>54.889907</td>\n",
       "      <td>58.508221</td>\n",
       "      <td>59.784568</td>\n",
       "      <td>59.472217</td>\n",
       "      <td>-22.475018</td>\n",
       "      <td>4.275175</td>\n",
       "      <td>20.700001</td>\n",
       "      <td>1.01708</td>\n",
       "      <td>-0.078301</td>\n",
       "    </tr>\n",
       "    <tr>\n",
       "      <th>1</th>\n",
       "      <td>2016-01-05</td>\n",
       "      <td>CERS</td>\n",
       "      <td>6.490000</td>\n",
       "      <td>6.660</td>\n",
       "      <td>6.280000</td>\n",
       "      <td>6.400000</td>\n",
       "      <td>1778600.0</td>\n",
       "      <td>1.0</td>\n",
       "      <td>0.213722</td>\n",
       "      <td>0.224909</td>\n",
       "      <td>...</td>\n",
       "      <td>60.731882</td>\n",
       "      <td>60.584121</td>\n",
       "      <td>59.172261</td>\n",
       "      <td>57.172443</td>\n",
       "      <td>55.281579</td>\n",
       "      <td>103.715720</td>\n",
       "      <td>26.591215</td>\n",
       "      <td>19.340000</td>\n",
       "      <td>2.81921</td>\n",
       "      <td>-0.190468</td>\n",
       "    </tr>\n",
       "  </tbody>\n",
       "</table>\n",
       "<p>5 rows × 24 columns</p>\n",
       "</div>"
      ],
      "text/plain": [
       "         date   tic       open    high        low     close      volume  day  \\\n",
       "0  2016-01-04  CERS   6.190000   6.270   6.030000  6.240000   1182500.0  0.0   \n",
       "0  2016-01-04  EXAS   8.980000   9.110   8.480000  9.000000   2326400.0  0.0   \n",
       "0  2016-01-04   GEN  20.549999  20.850  20.360001  8.577429   5265200.0  0.0   \n",
       "0  2016-01-04  NVDA   8.072500   8.145   8.010000  7.905804  35807600.0  0.0   \n",
       "1  2016-01-05  CERS   6.490000   6.660   6.280000  6.400000   1778600.0  1.0   \n",
       "\n",
       "       macd     macds  ...     rsi_13     rsi_21     rsi_34     rsi_55  \\\n",
       "0  0.215214  0.227705  ...  56.843943  58.196854  57.636392  56.163192   \n",
       "0  0.047627 -0.032850  ...  47.291835  44.772234  41.132734  39.994055   \n",
       "0  0.120752  0.088442  ...  57.715595  56.437223  53.446725  50.447861   \n",
       "0  0.123278  0.164436  ...  48.912074  54.889907  58.508221  59.784568   \n",
       "1  0.213722  0.224909  ...  60.731882  60.584121  59.172261  57.172443   \n",
       "\n",
       "      rsi_89      cci_30      dx_30        vix  turbulence  daily_return  \n",
       "0  54.620297   56.267999  10.901308  20.700001     1.01708     -0.224835  \n",
       "0  41.396262  -16.827420   6.640800  20.700001     1.01708      0.442308  \n",
       "0  48.809856   70.333945   3.360028  20.700001     1.01708     -0.046952  \n",
       "0  59.472217  -22.475018   4.275175  20.700001     1.01708     -0.078301  \n",
       "1  55.281579  103.715720  26.591215  19.340000     2.81921     -0.190468  \n",
       "\n",
       "[5 rows x 24 columns]"
      ]
     },
     "execution_count": 53,
     "metadata": {},
     "output_type": "execute_result"
    }
   ],
   "source": [
    "trade.head()"
   ]
  },
  {
   "cell_type": "code",
   "execution_count": 54,
   "metadata": {},
   "outputs": [
    {
     "data": {
      "text/plain": [
       "<stable_baselines3.sac.sac.SAC at 0x7f0606189d00>"
      ]
     },
     "execution_count": 54,
     "metadata": {},
     "output_type": "execute_result"
    }
   ],
   "source": [
    "trained_model"
   ]
  },
  {
   "cell_type": "code",
   "execution_count": 55,
   "metadata": {
    "colab": {
     "base_uri": "https://localhost:8080/"
    },
    "id": "eLOnL5eYh1jR",
    "outputId": "d31d2209-05ef-41df-fd8f-ee081d427949"
   },
   "outputs": [
    {
     "name": "stdout",
     "output_type": "stream",
     "text": [
      "hit end!\n"
     ]
    }
   ],
   "source": [
    "trained_model = trained_sac\n",
    "\n",
    "df_account_value, df_actions = DRLAgent.DRL_prediction(\n",
    "    model=trained_model, \n",
    "    environment = e_trade_gym)"
   ]
  },
  {
   "cell_type": "code",
   "execution_count": 56,
   "metadata": {},
   "outputs": [],
   "source": [
    "model=trained_model, \n",
    "environment = e_trade_gym"
   ]
  },
  {
   "cell_type": "code",
   "execution_count": 57,
   "metadata": {
    "colab": {
     "base_uri": "https://localhost:8080/"
    },
    "id": "ERxw3KqLkcP4",
    "outputId": "780c7269-0139-42e0-8ad6-081fd93717bf"
   },
   "outputs": [
    {
     "data": {
      "text/plain": [
       "(469, 2)"
      ]
     },
     "execution_count": 57,
     "metadata": {},
     "output_type": "execute_result"
    }
   ],
   "source": [
    "df_account_value.shape"
   ]
  },
  {
   "cell_type": "code",
   "execution_count": 58,
   "metadata": {
    "colab": {
     "base_uri": "https://localhost:8080/",
     "height": 206
    },
    "id": "2yRkNguY5yvp",
    "outputId": "13f1ace3-c343-4bee-e0c1-214b2f8a1372"
   },
   "outputs": [
    {
     "data": {
      "text/html": [
       "<div>\n",
       "<style scoped>\n",
       "    .dataframe tbody tr th:only-of-type {\n",
       "        vertical-align: middle;\n",
       "    }\n",
       "\n",
       "    .dataframe tbody tr th {\n",
       "        vertical-align: top;\n",
       "    }\n",
       "\n",
       "    .dataframe thead th {\n",
       "        text-align: right;\n",
       "    }\n",
       "</style>\n",
       "<table border=\"1\" class=\"dataframe\">\n",
       "  <thead>\n",
       "    <tr style=\"text-align: right;\">\n",
       "      <th></th>\n",
       "      <th>date</th>\n",
       "      <th>account_value</th>\n",
       "    </tr>\n",
       "  </thead>\n",
       "  <tbody>\n",
       "    <tr>\n",
       "      <th>464</th>\n",
       "      <td>2017-11-03</td>\n",
       "      <td>375794.295513</td>\n",
       "    </tr>\n",
       "    <tr>\n",
       "      <th>465</th>\n",
       "      <td>2017-11-06</td>\n",
       "      <td>380831.826064</td>\n",
       "    </tr>\n",
       "    <tr>\n",
       "      <th>466</th>\n",
       "      <td>2017-11-07</td>\n",
       "      <td>391221.406409</td>\n",
       "    </tr>\n",
       "    <tr>\n",
       "      <th>467</th>\n",
       "      <td>2017-11-08</td>\n",
       "      <td>392140.105469</td>\n",
       "    </tr>\n",
       "    <tr>\n",
       "      <th>468</th>\n",
       "      <td>2017-11-09</td>\n",
       "      <td>385003.472874</td>\n",
       "    </tr>\n",
       "  </tbody>\n",
       "</table>\n",
       "</div>"
      ],
      "text/plain": [
       "           date  account_value\n",
       "464  2017-11-03  375794.295513\n",
       "465  2017-11-06  380831.826064\n",
       "466  2017-11-07  391221.406409\n",
       "467  2017-11-08  392140.105469\n",
       "468  2017-11-09  385003.472874"
      ]
     },
     "execution_count": 58,
     "metadata": {},
     "output_type": "execute_result"
    }
   ],
   "source": [
    "df_account_value.tail()"
   ]
  },
  {
   "cell_type": "code",
   "execution_count": 59,
   "metadata": {
    "colab": {
     "base_uri": "https://localhost:8080/",
     "height": 267
    },
    "id": "nFlK5hNbWVFk",
    "outputId": "a635843e-7732-47ce-8044-9c87a33de736"
   },
   "outputs": [
    {
     "data": {
      "text/html": [
       "<div>\n",
       "<style scoped>\n",
       "    .dataframe tbody tr th:only-of-type {\n",
       "        vertical-align: middle;\n",
       "    }\n",
       "\n",
       "    .dataframe tbody tr th {\n",
       "        vertical-align: top;\n",
       "    }\n",
       "\n",
       "    .dataframe thead th {\n",
       "        text-align: right;\n",
       "    }\n",
       "</style>\n",
       "<table border=\"1\" class=\"dataframe\">\n",
       "  <thead>\n",
       "    <tr style=\"text-align: right;\">\n",
       "      <th></th>\n",
       "      <th>CERS</th>\n",
       "      <th>EXAS</th>\n",
       "      <th>GEN</th>\n",
       "      <th>NVDA</th>\n",
       "    </tr>\n",
       "    <tr>\n",
       "      <th>date</th>\n",
       "      <th></th>\n",
       "      <th></th>\n",
       "      <th></th>\n",
       "      <th></th>\n",
       "    </tr>\n",
       "  </thead>\n",
       "  <tbody>\n",
       "    <tr>\n",
       "      <th>2016-01-04</th>\n",
       "      <td>100</td>\n",
       "      <td>100</td>\n",
       "      <td>100</td>\n",
       "      <td>0</td>\n",
       "    </tr>\n",
       "    <tr>\n",
       "      <th>2016-01-05</th>\n",
       "      <td>100</td>\n",
       "      <td>100</td>\n",
       "      <td>100</td>\n",
       "      <td>0</td>\n",
       "    </tr>\n",
       "    <tr>\n",
       "      <th>2016-01-06</th>\n",
       "      <td>100</td>\n",
       "      <td>100</td>\n",
       "      <td>100</td>\n",
       "      <td>0</td>\n",
       "    </tr>\n",
       "    <tr>\n",
       "      <th>2016-01-07</th>\n",
       "      <td>100</td>\n",
       "      <td>100</td>\n",
       "      <td>100</td>\n",
       "      <td>0</td>\n",
       "    </tr>\n",
       "    <tr>\n",
       "      <th>2016-01-08</th>\n",
       "      <td>100</td>\n",
       "      <td>100</td>\n",
       "      <td>100</td>\n",
       "      <td>0</td>\n",
       "    </tr>\n",
       "  </tbody>\n",
       "</table>\n",
       "</div>"
      ],
      "text/plain": [
       "            CERS  EXAS  GEN  NVDA\n",
       "date                             \n",
       "2016-01-04   100   100  100     0\n",
       "2016-01-05   100   100  100     0\n",
       "2016-01-06   100   100  100     0\n",
       "2016-01-07   100   100  100     0\n",
       "2016-01-08   100   100  100     0"
      ]
     },
     "execution_count": 59,
     "metadata": {},
     "output_type": "execute_result"
    }
   ],
   "source": [
    "df_actions.head()"
   ]
  },
  {
   "cell_type": "markdown",
   "metadata": {
    "id": "W6vvNSC6h1jZ"
   },
   "source": [
    "<a id='6'></a>\n",
    "# Part 7: Backtesting Results\n",
    "Backtesting plays a key role in evaluating the performance of a trading strategy. Automated backtesting tool is preferred because it reduces the human error. We usually use the Quantopian pyfolio package to backtest our trading strategies. It is easy to use and consists of various individual plots that provide a comprehensive image of the performance of a trading strategy."
   ]
  },
  {
   "cell_type": "markdown",
   "metadata": {
    "id": "Lr2zX7ZxNyFQ"
   },
   "source": [
    "<a id='6.1'></a>\n",
    "## 7.1 BackTestStats\n",
    "pass in df_account_value, this information is stored in env class\n"
   ]
  },
  {
   "cell_type": "code",
   "execution_count": 70,
   "metadata": {
    "colab": {
     "base_uri": "https://localhost:8080/"
    },
    "id": "Nzkr9yv-AdV_",
    "outputId": "216032a2-5566-4dba-db83-7d7d880b1e88"
   },
   "outputs": [
    {
     "name": "stdout",
     "output_type": "stream",
     "text": [
      "==============Get Backtest Results===========\n",
      "Annual return          0.027160\n",
      "Cumulative returns     0.051026\n",
      "Annual volatility      0.492467\n",
      "Sharpe ratio           0.300087\n",
      "Calmar ratio           0.042985\n",
      "Stability              0.005931\n",
      "Max drawdown          -0.631840\n",
      "Omega ratio            1.050033\n",
      "Sortino ratio          0.433253\n",
      "Skew                        NaN\n",
      "Kurtosis                    NaN\n",
      "Tail ratio             1.024087\n",
      "Daily value at risk   -0.061459\n",
      "dtype: float64\n"
     ]
    }
   ],
   "source": [
    "print(\"==============Get Backtest Results===========\")\n",
    "now = datetime.datetime.now().strftime('%Y%m%d-%Hh%M')\n",
    "\n",
    "perf_stats_all = backtest_stats(account_value=df_account_value)\n",
    "perf_stats_all = pd.DataFrame(perf_stats_all)\n",
    "perf_stats_all.to_csv(\"./\"+RESULTS_DIR+\"/perf_stats_all_\"+now+'.csv')"
   ]
  },
  {
   "cell_type": "code",
   "execution_count": 71,
   "metadata": {
    "colab": {
     "base_uri": "https://localhost:8080/"
    },
    "id": "QkV-LB66iwhD",
    "outputId": "7231e720-1598-45ac-ff49-9f8d29f296fa"
   },
   "outputs": [
    {
     "name": "stdout",
     "output_type": "stream",
     "text": [
      "==============Get Baseline Stats===========\n",
      "[*********************100%***********************]  1 of 1 completed\n",
      "Shape of DataFrame:  (467, 8)\n",
      "Annual return          0.051315\n",
      "Cumulative returns     0.097173\n",
      "Annual volatility      0.164102\n",
      "Sharpe ratio           0.387660\n",
      "Calmar ratio           0.233881\n",
      "Stability              0.061791\n",
      "Max drawdown          -0.219408\n",
      "Omega ratio            1.067832\n",
      "Sortino ratio          0.542255\n",
      "Skew                        NaN\n",
      "Kurtosis                    NaN\n",
      "Tail ratio             0.985824\n",
      "Daily value at risk   -0.020422\n",
      "dtype: float64\n"
     ]
    }
   ],
   "source": [
    "#baseline stats\n",
    "print(\"==============Get Baseline Stats===========\")\n",
    "baseline_df = get_baseline(\n",
    "        ticker=\"^DJI\", \n",
    "        start = df_account_value.loc[0,'date'],\n",
    "        end = df_account_value.loc[len(df_account_value)-1,'date'])\n",
    "\n",
    "stats = backtest_stats(baseline_df, value_col_name = 'close')\n"
   ]
  },
  {
   "cell_type": "code",
   "execution_count": 72,
   "metadata": {
    "colab": {
     "base_uri": "https://localhost:8080/",
     "height": 35
    },
    "id": "qg1kvfemrrQH",
    "outputId": "fc34eb83-c616-42b3-98c7-8f8318644061"
   },
   "outputs": [
    {
     "data": {
      "text/plain": [
       "'2021-01-04'"
      ]
     },
     "execution_count": 72,
     "metadata": {},
     "output_type": "execute_result"
    }
   ],
   "source": [
    "df_account_value.loc[0,'date']"
   ]
  },
  {
   "cell_type": "code",
   "execution_count": 73,
   "metadata": {
    "colab": {
     "base_uri": "https://localhost:8080/",
     "height": 35
    },
    "id": "tt1bzL5OrsTa",
    "outputId": "59ed1fd0-5a77-40e2-8def-229148fec9db"
   },
   "outputs": [
    {
     "data": {
      "text/plain": [
       "'2022-11-09'"
      ]
     },
     "execution_count": 73,
     "metadata": {},
     "output_type": "execute_result"
    }
   ],
   "source": [
    "df_account_value.loc[len(df_account_value)-1,'date']"
   ]
  },
  {
   "cell_type": "markdown",
   "metadata": {
    "id": "9U6Suru3h1jc"
   },
   "source": [
    "<a id='6.2'></a>\n",
    "## 7.2 BackTestPlot"
   ]
  },
  {
   "cell_type": "code",
   "execution_count": 74,
   "metadata": {},
   "outputs": [
    {
     "data": {
      "text/plain": [
       "'2021-01-04'"
      ]
     },
     "execution_count": 74,
     "metadata": {},
     "output_type": "execute_result"
    }
   ],
   "source": [
    "df_account_value.loc[0,'date']"
   ]
  },
  {
   "cell_type": "code",
   "execution_count": 75,
   "metadata": {},
   "outputs": [
    {
     "data": {
      "text/plain": [
       "'2022-11-09'"
      ]
     },
     "execution_count": 75,
     "metadata": {},
     "output_type": "execute_result"
    }
   ],
   "source": [
    "df_account_value.loc[len(df_account_value)-1,'date']"
   ]
  },
  {
   "cell_type": "code",
   "execution_count": 76,
   "metadata": {},
   "outputs": [
    {
     "data": {
      "text/html": [
       "<div>\n",
       "<style scoped>\n",
       "    .dataframe tbody tr th:only-of-type {\n",
       "        vertical-align: middle;\n",
       "    }\n",
       "\n",
       "    .dataframe tbody tr th {\n",
       "        vertical-align: top;\n",
       "    }\n",
       "\n",
       "    .dataframe thead th {\n",
       "        text-align: right;\n",
       "    }\n",
       "</style>\n",
       "<table border=\"1\" class=\"dataframe\">\n",
       "  <thead>\n",
       "    <tr style=\"text-align: right;\">\n",
       "      <th></th>\n",
       "      <th>date</th>\n",
       "      <th>account_value</th>\n",
       "    </tr>\n",
       "  </thead>\n",
       "  <tbody>\n",
       "    <tr>\n",
       "      <th>0</th>\n",
       "      <td>2021-01-04</td>\n",
       "      <td>100000.000000</td>\n",
       "    </tr>\n",
       "    <tr>\n",
       "      <th>1</th>\n",
       "      <td>2021-01-05</td>\n",
       "      <td>100294.913883</td>\n",
       "    </tr>\n",
       "    <tr>\n",
       "      <th>2</th>\n",
       "      <td>2021-01-06</td>\n",
       "      <td>98691.865140</td>\n",
       "    </tr>\n",
       "    <tr>\n",
       "      <th>3</th>\n",
       "      <td>2021-01-07</td>\n",
       "      <td>100919.968345</td>\n",
       "    </tr>\n",
       "    <tr>\n",
       "      <th>4</th>\n",
       "      <td>2021-01-08</td>\n",
       "      <td>100605.316154</td>\n",
       "    </tr>\n",
       "    <tr>\n",
       "      <th>...</th>\n",
       "      <td>...</td>\n",
       "      <td>...</td>\n",
       "    </tr>\n",
       "    <tr>\n",
       "      <th>463</th>\n",
       "      <td>2022-11-03</td>\n",
       "      <td>102010.168498</td>\n",
       "    </tr>\n",
       "    <tr>\n",
       "      <th>464</th>\n",
       "      <td>2022-11-04</td>\n",
       "      <td>107165.511417</td>\n",
       "    </tr>\n",
       "    <tr>\n",
       "      <th>465</th>\n",
       "      <td>2022-11-07</td>\n",
       "      <td>107826.540218</td>\n",
       "    </tr>\n",
       "    <tr>\n",
       "      <th>466</th>\n",
       "      <td>2022-11-08</td>\n",
       "      <td>109798.152080</td>\n",
       "    </tr>\n",
       "    <tr>\n",
       "      <th>467</th>\n",
       "      <td>2022-11-09</td>\n",
       "      <td>105102.593158</td>\n",
       "    </tr>\n",
       "  </tbody>\n",
       "</table>\n",
       "<p>468 rows × 2 columns</p>\n",
       "</div>"
      ],
      "text/plain": [
       "           date  account_value\n",
       "0    2021-01-04  100000.000000\n",
       "1    2021-01-05  100294.913883\n",
       "2    2021-01-06   98691.865140\n",
       "3    2021-01-07  100919.968345\n",
       "4    2021-01-08  100605.316154\n",
       "..          ...            ...\n",
       "463  2022-11-03  102010.168498\n",
       "464  2022-11-04  107165.511417\n",
       "465  2022-11-07  107826.540218\n",
       "466  2022-11-08  109798.152080\n",
       "467  2022-11-09  105102.593158\n",
       "\n",
       "[468 rows x 2 columns]"
      ]
     },
     "execution_count": 76,
     "metadata": {},
     "output_type": "execute_result"
    }
   ],
   "source": [
    "df_account_value"
   ]
  },
  {
   "cell_type": "code",
   "execution_count": 77,
   "metadata": {
    "colab": {
     "base_uri": "https://localhost:8080/",
     "height": 1000
    },
    "id": "lKRGftSS7pNM",
    "outputId": "db260938-69a7-4417-fed7-25679d43b0f6",
    "scrolled": false
   },
   "outputs": [
    {
     "name": "stdout",
     "output_type": "stream",
     "text": [
      "==============Compare to DJIA===========\n",
      "[*********************100%***********************]  1 of 1 completed\n",
      "Shape of DataFrame:  (467, 8)\n"
     ]
    },
    {
     "data": {
      "text/html": [
       "<table border=\"1\" class=\"dataframe\">\n",
       "  <thead>\n",
       "    <tr style=\"text-align: right;\"><th>Start date</th><td colspan=2>2021-01-04</td></tr>\n",
       "    <tr style=\"text-align: right;\"><th>End date</th><td colspan=2>2022-11-09</td></tr>\n",
       "    <tr style=\"text-align: right;\"><th>Total months</th><td colspan=2>22</td></tr>\n",
       "    <tr style=\"text-align: right;\">\n",
       "      <th></th>\n",
       "      <th>Backtest</th>\n",
       "    </tr>\n",
       "  </thead>\n",
       "  <tbody>\n",
       "    <tr>\n",
       "      <th>Annual return</th>\n",
       "      <td>2.716%</td>\n",
       "    </tr>\n",
       "    <tr>\n",
       "      <th>Cumulative returns</th>\n",
       "      <td>5.103%</td>\n",
       "    </tr>\n",
       "    <tr>\n",
       "      <th>Annual volatility</th>\n",
       "      <td>49.247%</td>\n",
       "    </tr>\n",
       "    <tr>\n",
       "      <th>Sharpe ratio</th>\n",
       "      <td>0.30</td>\n",
       "    </tr>\n",
       "    <tr>\n",
       "      <th>Calmar ratio</th>\n",
       "      <td>0.04</td>\n",
       "    </tr>\n",
       "    <tr>\n",
       "      <th>Stability</th>\n",
       "      <td>0.01</td>\n",
       "    </tr>\n",
       "    <tr>\n",
       "      <th>Max drawdown</th>\n",
       "      <td>-63.184%</td>\n",
       "    </tr>\n",
       "    <tr>\n",
       "      <th>Omega ratio</th>\n",
       "      <td>1.05</td>\n",
       "    </tr>\n",
       "    <tr>\n",
       "      <th>Sortino ratio</th>\n",
       "      <td>0.43</td>\n",
       "    </tr>\n",
       "    <tr>\n",
       "      <th>Skew</th>\n",
       "      <td>NaN</td>\n",
       "    </tr>\n",
       "    <tr>\n",
       "      <th>Kurtosis</th>\n",
       "      <td>NaN</td>\n",
       "    </tr>\n",
       "    <tr>\n",
       "      <th>Tail ratio</th>\n",
       "      <td>1.02</td>\n",
       "    </tr>\n",
       "    <tr>\n",
       "      <th>Daily value at risk</th>\n",
       "      <td>-6.146%</td>\n",
       "    </tr>\n",
       "    <tr>\n",
       "      <th>Alpha</th>\n",
       "      <td>0.03</td>\n",
       "    </tr>\n",
       "    <tr>\n",
       "      <th>Beta</th>\n",
       "      <td>1.86</td>\n",
       "    </tr>\n",
       "  </tbody>\n",
       "</table>"
      ],
      "text/plain": [
       "<IPython.core.display.HTML object>"
      ]
     },
     "metadata": {},
     "output_type": "display_data"
    },
    {
     "data": {
      "text/html": [
       "<table border=\"1\" class=\"dataframe\">\n",
       "  <thead>\n",
       "    <tr style=\"text-align: right;\">\n",
       "      <th>Worst drawdown periods</th>\n",
       "      <th>Net drawdown in %</th>\n",
       "      <th>Peak date</th>\n",
       "      <th>Valley date</th>\n",
       "      <th>Recovery date</th>\n",
       "      <th>Duration</th>\n",
       "    </tr>\n",
       "  </thead>\n",
       "  <tbody>\n",
       "    <tr>\n",
       "      <th>0</th>\n",
       "      <td>63.18</td>\n",
       "      <td>2021-11-29</td>\n",
       "      <td>2022-10-14</td>\n",
       "      <td>NaT</td>\n",
       "      <td>NaN</td>\n",
       "    </tr>\n",
       "    <tr>\n",
       "      <th>1</th>\n",
       "      <td>21.87</td>\n",
       "      <td>2021-02-16</td>\n",
       "      <td>2021-03-08</td>\n",
       "      <td>2021-04-13</td>\n",
       "      <td>41</td>\n",
       "    </tr>\n",
       "    <tr>\n",
       "      <th>2</th>\n",
       "      <td>13.10</td>\n",
       "      <td>2021-09-03</td>\n",
       "      <td>2021-10-04</td>\n",
       "      <td>2021-10-25</td>\n",
       "      <td>37</td>\n",
       "    </tr>\n",
       "    <tr>\n",
       "      <th>3</th>\n",
       "      <td>11.80</td>\n",
       "      <td>2021-04-15</td>\n",
       "      <td>2021-05-13</td>\n",
       "      <td>2021-05-24</td>\n",
       "      <td>28</td>\n",
       "    </tr>\n",
       "    <tr>\n",
       "      <th>4</th>\n",
       "      <td>11.62</td>\n",
       "      <td>2021-07-06</td>\n",
       "      <td>2021-07-16</td>\n",
       "      <td>2021-08-23</td>\n",
       "      <td>35</td>\n",
       "    </tr>\n",
       "  </tbody>\n",
       "</table>"
      ],
      "text/plain": [
       "<IPython.core.display.HTML object>"
      ]
     },
     "metadata": {},
     "output_type": "display_data"
    },
    {
     "data": {
      "text/html": [
       "<table border=\"1\" class=\"dataframe\">\n",
       "  <thead>\n",
       "    <tr style=\"text-align: right;\">\n",
       "      <th>Stress Events</th>\n",
       "      <th>mean</th>\n",
       "      <th>min</th>\n",
       "      <th>max</th>\n",
       "    </tr>\n",
       "  </thead>\n",
       "  <tbody>\n",
       "    <tr>\n",
       "      <th>New Normal</th>\n",
       "      <td>0.06%</td>\n",
       "      <td>-8.86%</td>\n",
       "      <td>10.97%</td>\n",
       "    </tr>\n",
       "  </tbody>\n",
       "</table>"
      ],
      "text/plain": [
       "<IPython.core.display.HTML object>"
      ]
     },
     "metadata": {},
     "output_type": "display_data"
    },
    {
     "data": {
      "image/png": "[encoded data removed]",
      "text/plain": [
       "<Figure size 1008x5184 with 13 Axes>"
      ]
     },
     "metadata": {
      "needs_background": "light"
     },
     "output_type": "display_data"
    },
    {
     "data": {
      "image/png": "[encoded data removed]",
      "text/plain": [
       "<Figure size 1008x432 with 1 Axes>"
      ]
     },
     "metadata": {
      "needs_background": "light"
     },
     "output_type": "display_data"
    }
   ],
   "source": [
    "print(\"==============Compare to DJIA===========\")\n",
    "%matplotlib inline\n",
    "# S&P 500: ^GSPC\n",
    "# Dow Jones Index: ^DJI\n",
    "# NASDAQ 100: ^NDX\n",
    "backtest_plot(df_account_value, \n",
    "             baseline_ticker = '^DJI', \n",
    "             baseline_start = df_account_value.loc[0,'date'],\n",
    "             baseline_end = df_account_value.loc[len(df_account_value)-1,'date'])"
   ]
  },
  {
   "cell_type": "code",
   "execution_count": null,
   "metadata": {},
   "outputs": [],
   "source": []
  },
  {
   "cell_type": "code",
   "execution_count": null,
   "metadata": {},
   "outputs": [],
   "source": []
  },
  {
   "cell_type": "code",
   "execution_count": null,
   "metadata": {},
   "outputs": [],
   "source": []
  }
 ],
 "metadata": {
  "colab": {
   "collapsed_sections": [
    "_gDkU-j-fCmZ",
    "3Zpv4S0-fDBv"
   ],
   "name": "Stock_NeurIPS2018.ipynb",
   "provenance": []
  },
  "kernelspec": {
   "display_name": "finRL",
   "language": "python",
   "name": "finrl"
  },
  "language_info": {
   "codemirror_mode": {
    "name": "ipython",
    "version": 3
   },
   "file_extension": ".py",
   "mimetype": "text/x-python",
   "name": "python",
   "nbconvert_exporter": "python",
   "pygments_lexer": "ipython3",
   "version": "3.8.13"
  },
  "vscode": {
   "interpreter": {
    "hash": "51c49a0b2976a7aa599cb0ec658b6ede5d1ee847d53b068743dcdf190843abdc"
   }
  }
 },
 "nbformat": 4,
 "nbformat_minor": 1
}
